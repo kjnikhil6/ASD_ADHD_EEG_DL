{
  "cells": [
    {
      "cell_type": "code",
      "execution_count": null,
      "metadata": {
        "colab": {
          "base_uri": "https://localhost:8080/"
        },
        "id": "4_nOuXQ8qnTd",
        "outputId": "30377e2e-9160-46db-991a-329e1e1f9fc9"
      },
      "outputs": [
        {
          "name": "stdout",
          "output_type": "stream",
          "text": [
            "Mounted at /content/gdrive\n"
          ]
        }
      ],
      "source": [
        "from google.colab import drive\n",
        "drive.mount(\"/content/gdrive\")"
      ]
    },
    {
      "cell_type": "code",
      "execution_count": null,
      "metadata": {
        "id": "Dj2upgsMq1jP"
      },
      "outputs": [],
      "source": [
        "%%capture\n",
        "!pip install mne\n"
      ]
    },
    {
      "cell_type": "markdown",
      "metadata": {
        "id": "lljglszgq5ic"
      },
      "source": [
        "# **The Dataset**"
      ]
    },
    {
      "cell_type": "code",
      "execution_count": null,
      "metadata": {
        "id": "PDVVcxdUq3lF"
      },
      "outputs": [],
      "source": [
        "from glob import glob\n",
        "import os\n",
        "import mne\n",
        "import numpy as np\n",
        "import pandas\n",
        "import matplotlib.pyplot as plt\n",
        "from tensorflow.keras.utils import plot_model\n",
        "import re"
      ]
    },
    {
      "cell_type": "code",
      "execution_count": null,
      "metadata": {
        "colab": {
          "base_uri": "https://localhost:8080/"
        },
        "id": "HYlmqviLq3xN",
        "outputId": "65ba8f03-1bc7-4270-c9ba-a65189454b18"
      },
      "outputs": [
        {
          "output_type": "stream",
          "name": "stdout",
          "text": [
            "30 26\n",
            "2 5\n"
          ]
        }
      ],
      "source": [
        "ASD_file_path = glob('/content/gdrive/My Drive/MAIN PROJECT/ICCONS/ASD/*.fif')\n",
        "ADHD_file_path = glob('/content/gdrive/My Drive/MAIN PROJECT/ICCONS/ADHD/*.fif')\n",
        "test_ASD_file_path = glob('/content/gdrive/My Drive/MAIN PROJECT/ICCONS/test_ASD/*.fif')\n",
        "test_ADHD_file_path = glob('/content/gdrive/My Drive/MAIN PROJECT/ICCONS/test_ADHD/*.fif')\n",
        "print(len(ASD_file_path), len(ADHD_file_path))\n",
        "print(len(test_ASD_file_path), len(test_ADHD_file_path))"
      ]
    },
    {
      "cell_type": "code",
      "execution_count": null,
      "metadata": {
        "id": "4Qgoy5wKrDT1"
      },
      "outputs": [],
      "source": [
        "def subj_id_finder(file_path):\n",
        "  pattern = r'(\\w+)/(\\d+)_(\\d+)\\.fif'\n",
        "  match = re.search(pattern, file_path)\n",
        "  disorder = match.group(1)\n",
        "  subj_id=int(match.group(2))\n",
        "  if disorder == 'ADHD':\n",
        "    subj_id+=16\n",
        "  return subj_id"
      ]
    },
    {
      "cell_type": "code",
      "execution_count": null,
      "metadata": {
        "id": "_v_ITi93rFqB"
      },
      "outputs": [],
      "source": [
        "from scipy.signal import hann\n",
        "import matplotlib.pyplot as plt\n",
        "def sliding_window(file_path, l_freq=1.0, h_freq=30.0, decim_factor=1,test=False):\n",
        "\n",
        "    #subj_id = subj_id_finder(file_path)\n",
        "    raw = mne.io.read_raw_fif(file_path, preload=True)\n",
        "    raw.filter(l_freq=0.3,h_freq=30)\n",
        "\n",
        "    data = raw.get_data()\n",
        "\n",
        "    window_size = 1 * int(raw.info['sfreq'])#250samples\n",
        "    stride = window_size// 2\n",
        "\n",
        "    windows = []\n",
        "    for i in range(0, data.shape[1] - window_size + 1, stride):\n",
        "        window_data = data[:, i:i+window_size]\n",
        "        # Apply a low-pass anti-aliasing filter to avoid aliasing\n",
        "        #anti_alias_data = mne.filter.filter_data(window_data, sfreq=raw.info['sfreq'],  l_freq= 40 , h_freq=None,)\n",
        "        hann_window = hann(window_size, sym=False)\n",
        "        window_data = window_data*hann_window\n",
        "        # Decimate the signal\n",
        "        decimated_data = mne.filter.resample(window_data, down=1.25, npad='auto')\n",
        "        windows.append(decimated_data)\n",
        "        #if not test:\n",
        "          #group_list.append(subj_id)\n",
        "\n",
        "\n",
        "    arr = np.array(windows)\n",
        "    if len(arr)!=0:\n",
        "      return arr"
      ]
    },
    {
      "cell_type": "code",
      "source": [
        "test_ADHD_file_path[1]"
      ],
      "metadata": {
        "colab": {
          "base_uri": "https://localhost:8080/",
          "height": 38
        },
        "id": "cC4ulNN0b4yt",
        "outputId": "79af6f94-10ca-40b0-e3aa-7ef14cafa8c7"
      },
      "execution_count": null,
      "outputs": [
        {
          "output_type": "execute_result",
          "data": {
            "text/plain": [
              "'/content/gdrive/My Drive/MAIN PROJECT/ICCONS/test1_ADHD/Copy of 2_2.fif'"
            ],
            "application/vnd.google.colaboratory.intrinsic+json": {
              "type": "string"
            }
          },
          "metadata": {},
          "execution_count": 115
        }
      ]
    },
    {
      "cell_type": "code",
      "execution_count": null,
      "metadata": {
        "colab": {
          "background_save": true
        },
        "id": "8_b5FANBrHzK"
      },
      "outputs": [],
      "source": [
        "%%capture\n",
        "group_list=[]\n",
        "ASD_epochs_arr = [sliding_window(i) for i in ASD_file_path ]\n",
        "ADHD_epochs_arr = [sliding_window(i) for i in ADHD_file_path]\n",
        "test_ASD_epochs_arr = [sliding_window(i,test=True) for i in test_ASD_file_path]\n",
        "test_ADHD_epochs_arr = [sliding_window(i,test=True) for i in test_ADHD_file_path]# all test subjects subjects segment is mixed here"
      ]
    },
    {
      "cell_type": "code",
      "execution_count": null,
      "metadata": {
        "id": "VA6861vqV2XZ"
      },
      "outputs": [],
      "source": [
        "%%capture\n",
        "#for subject wise testing #major voting\n",
        "test_ADHD1 = np.array(sliding_window(test_ADHD_file_path[0],test=True))\n",
        "test_ADHD2 = np.array(sliding_window(test_ADHD_file_path[1],test=True))\n",
        "test_ADHD3 = np.array(sliding_window(test_ADHD_file_path[2],test=True))\n",
        "\n",
        "test_ASD1 = np.array(sliding_window(test_ASD_file_path[0],test=True))\n",
        "test_ASD2 = np.array(sliding_window(test_ASD_file_path[1],test=True))\n",
        "test_ASD3 = np.array(sliding_window(test_ASD_file_path[2],test=True))"
      ]
    },
    {
      "cell_type": "code",
      "execution_count": null,
      "metadata": {
        "colab": {
          "base_uri": "https://localhost:8080/"
        },
        "id": "ySNjtX9qa5sg",
        "outputId": "3aa8ea73-da3e-4c76-9083-eec2b5fe9541"
      },
      "outputs": [
        {
          "output_type": "stream",
          "name": "stdout",
          "text": [
            "(2457, 200, 21)\n"
          ]
        }
      ],
      "source": [
        "#subject_test_data\n",
        "test_ADHD1=np.moveaxis(test_ADHD1,1,2)#reshaping so that channel comes last\n",
        "test_ADHD2=np.moveaxis(test_ADHD2,1,2)\n",
        "test_ADHD3=np.moveaxis(test_ADHD3,1,2)\n",
        "test_ASD1=np.moveaxis(test_ASD1,1,2)\n",
        "test_ASD2=np.moveaxis(test_ASD2,1,2)\n",
        "test_ASD3=np.moveaxis(test_ASD3,1,2)\n",
        "print(test_ADHD1.shape)"
      ]
    },
    {
      "cell_type": "code",
      "execution_count": null,
      "metadata": {
        "colab": {
          "base_uri": "https://localhost:8080/"
        },
        "id": "uxf8S89_rPAC",
        "outputId": "77fe2d6e-643c-433e-a267-7e8b57c8c70d"
      },
      "outputs": [
        {
          "data": {
            "text/plain": [
              "((3195, 21, 200), 30)"
            ]
          },
          "execution_count": 30,
          "metadata": {},
          "output_type": "execute_result"
        }
      ],
      "source": [
        "ASD_epochs_arr[1].shape,len(ASD_epochs_arr)"
      ]
    },
    {
      "cell_type": "code",
      "execution_count": null,
      "metadata": {
        "colab": {
          "base_uri": "https://localhost:8080/"
        },
        "id": "aeS_kgPYrRKy",
        "outputId": "5a761102-fe53-4f32-9731-4bf84fddd49c"
      },
      "outputs": [
        {
          "data": {
            "text/plain": [
              "(30, 26)"
            ]
          },
          "execution_count": 31,
          "metadata": {},
          "output_type": "execute_result"
        }
      ],
      "source": [
        "ASD_epochs_labels = [len(i)*[0] for i in ASD_epochs_arr.copy()]\n",
        "ADHD_epochs_labels = [len(i)*[1] for i in ADHD_epochs_arr.copy()]\n",
        "test_ASD_epochs_labels = [len(i)*[0] for i in test_ASD_epochs_arr.copy()]\n",
        "test_ADHD_epochs_labels = [len(i)*[1] for i in test_ADHD_epochs_arr.copy()]\n",
        "len(ASD_epochs_labels),len(ADHD_epochs_labels)"
      ]
    },
    {
      "cell_type": "code",
      "execution_count": null,
      "metadata": {
        "id": "YwfyEdk5rVPH"
      },
      "outputs": [],
      "source": [
        "data_list = ASD_epochs_arr.copy()+ADHD_epochs_arr.copy()\n",
        "label_list = ASD_epochs_labels+ADHD_epochs_labels\n",
        "test_data_list = test_ASD_epochs_arr.copy()+test_ADHD_epochs_arr.copy()\n",
        "test_label_list = test_ASD_epochs_labels+test_ADHD_epochs_labels"
      ]
    },
    {
      "cell_type": "code",
      "source": [
        "# #free ram\n",
        "# ADHD_epochs_arr=0\n",
        "# ASD_epochs_arr=0\n",
        "# test_ADHD_epochs_arr=0\n",
        "# test_ASD_epochs_arr=0"
      ],
      "metadata": {
        "id": "qqTMbnA8z_H2"
      },
      "execution_count": null,
      "outputs": []
    },
    {
      "cell_type": "code",
      "execution_count": null,
      "metadata": {
        "colab": {
          "base_uri": "https://localhost:8080/"
        },
        "id": "0JTPmj-frb1u",
        "outputId": "7f57fb25-080f-4c06-d1e3-ef3e99b0e47f"
      },
      "outputs": [
        {
          "name": "stdout",
          "output_type": "stream",
          "text": [
            "56\n"
          ]
        },
        {
          "data": {
            "text/plain": [
              "(72676, 56)"
            ]
          },
          "execution_count": 33,
          "metadata": {},
          "output_type": "execute_result"
        }
      ],
      "source": [
        "print(len(data_list))\n",
        "len(group_list),len(label_list)"
      ]
    },
    {
      "cell_type": "code",
      "execution_count": null,
      "metadata": {
        "id": "uqdG5dY-reOU"
      },
      "outputs": [],
      "source": [
        "train_features = np.vstack(data_list)\n",
        "data_list=0\n",
        "test_features = np.vstack(test_data_list)\n",
        "test_data_list=0\n",
        "label_arr = np.hstack(label_list)\n",
        "label_list=0\n",
        "test_labels = np.hstack(test_label_list)\n",
        "test_label_list=0\n",
        "group_arr =np.hstack(group_list)\n",
        "#group_list=0"
      ]
    },
    {
      "cell_type": "code",
      "execution_count": null,
      "metadata": {
        "colab": {
          "base_uri": "https://localhost:8080/"
        },
        "id": "b8LZrJiesNT2",
        "outputId": "b79afed2-4353-42fd-b69d-d66150789bd3"
      },
      "outputs": [
        {
          "data": {
            "text/plain": [
              "((72676,), (72676, 21, 200), (72676,))"
            ]
          },
          "execution_count": 35,
          "metadata": {},
          "output_type": "execute_result"
        }
      ],
      "source": [
        "group_arr.shape,train_features.shape,label_arr.shape"
      ]
    },
    {
      "cell_type": "code",
      "execution_count": null,
      "metadata": {
        "colab": {
          "base_uri": "https://localhost:8080/"
        },
        "id": "E5bvr3gFsk6O",
        "outputId": "9f70fbd4-a6bc-4621-a27d-5429177b7d52"
      },
      "outputs": [
        {
          "data": {
            "text/plain": [
              "array([ 1,  1,  1, ..., 31, 31, 31])"
            ]
          },
          "execution_count": 36,
          "metadata": {},
          "output_type": "execute_result"
        }
      ],
      "source": [
        "group_arr"
      ]
    },
    {
      "cell_type": "code",
      "execution_count": null,
      "metadata": {
        "colab": {
          "base_uri": "https://localhost:8080/"
        },
        "id": "gqYGeGqkso2D",
        "outputId": "18fc97f4-97b6-4530-8024-2766f9f20411"
      },
      "outputs": [
        {
          "data": {
            "text/plain": [
              "(72676, 200, 21)"
            ]
          },
          "execution_count": 37,
          "metadata": {},
          "output_type": "execute_result"
        }
      ],
      "source": [
        "test_features = np.moveaxis(test_features,1,2)\n",
        "test_features.shape\n",
        "train_features = np.moveaxis(train_features,1,2)\n",
        "train_features.shape"
      ]
    },
    {
      "cell_type": "code",
      "execution_count": null,
      "metadata": {
        "id": "lrUlFZWRsvZ8"
      },
      "outputs": [],
      "source": [
        "# #free ram\n",
        "# data_list=0\n",
        "# test_data_list=0\n",
        "# label_list=0\n",
        "# test_label_list=0"
      ]
    },
    {
      "cell_type": "code",
      "execution_count": null,
      "metadata": {
        "id": "TDuzwKJ9tG7S"
      },
      "outputs": [],
      "source": [
        "# train_labels = label_arr.copy()"
      ]
    },
    {
      "cell_type": "code",
      "execution_count": null,
      "metadata": {
        "colab": {
          "base_uri": "https://localhost:8080/"
        },
        "id": "9rQou92WcAj6",
        "outputId": "75856df7-f660-4972-abce-00110a8845cf"
      },
      "outputs": [
        {
          "data": {
            "text/plain": [
              "array([0, 0, 0, ..., 1, 1, 1])"
            ]
          },
          "execution_count": 40,
          "metadata": {},
          "output_type": "execute_result"
        }
      ],
      "source": [
        "# train_labels"
      ]
    },
    {
      "cell_type": "markdown",
      "metadata": {
        "id": "eib1luRXtbcY"
      },
      "source": [
        "# **MODEL**"
      ]
    },
    {
      "cell_type": "code",
      "execution_count": null,
      "metadata": {
        "id": "jbRM05Zutf5M"
      },
      "outputs": [],
      "source": [
        "from sklearn.model_selection import train_test_split\n",
        "from sklearn.preprocessing import StandardScaler\n",
        "from sklearn.model_selection import GroupKFold, LeaveOneGroupOut\n",
        "scaler =  StandardScaler()\n",
        "#normalizing\n",
        "train_features=scaler.fit_transform(train_features.reshape(-1,\\\n",
        "                    train_features.shape[-1])).reshape(train_features.shape)\n",
        "\n",
        "test_features=scaler.fit_transform(test_features.reshape(-1,\\\n",
        "                    test_features.shape[-1])).reshape(test_features.shape)\n"
      ]
    },
    {
      "cell_type": "code",
      "execution_count": null,
      "metadata": {
        "id": "pZijYjeLkK4P"
      },
      "outputs": [],
      "source": [
        "#testing subject wise\n",
        "test_ADHD1=scaler.fit_transform(test_ADHD1.reshape(-1,\\\n",
        "                    test_ADHD1.shape[-1])).reshape(test_ADHD1.shape)\n",
        "test_ADHD2=scaler.fit_transform(test_ADHD2.reshape(-1,\\\n",
        "                    test_ADHD2.shape[-1])).reshape(test_ADHD2.shape)\n",
        "test_ADHD3=scaler.fit_transform(test_ADHD3.reshape(-1,\\\n",
        "                    test_ADHD3.shape[-1])).reshape(test_ADHD3.shape)\n",
        "test_ASD1=scaler.fit_transform(test_ASD1.reshape(-1,\\\n",
        "                    test_ASD1.shape[-1])).reshape(test_ASD1.shape)\n",
        "test_ASD2=scaler.fit_transform(test_ASD2.reshape(-1,\\\n",
        "                    test_ASD2.shape[-1])).reshape(test_ASD2.shape)\n",
        "test_ASD3=scaler.fit_transform(test_ASD3.reshape(-1,\\\n",
        "                    test_ASD3.shape[-1])).reshape(test_ASD3.shape)\n"
      ]
    },
    {
      "cell_type": "code",
      "execution_count": null,
      "metadata": {
        "id": "ONk8W4BLsHme"
      },
      "outputs": [],
      "source": [
        "from tensorflow.keras.layers import Input,Dense,concatenate,Flatten,GRU,Conv1D\n",
        "from tensorflow.keras.models import Model"
      ]
    },
    {
      "cell_type": "code",
      "execution_count": null,
      "metadata": {
        "id": "nKpdQJ-RtiTK"
      },
      "outputs": [],
      "source": [
        "from tensorflow.keras.layers import Conv1D,BatchNormalization,LeakyReLU,MaxPool1D,\\\n",
        "GlobalAveragePooling1D,Dense,Dropout,AveragePooling1D,ReLU,MaxPooling1D,InputLayer,Flatten\n",
        "from tensorflow.keras.models import Sequential\n",
        "from tensorflow.keras.backend import clear_session\n",
        "from tensorflow.keras.utils import plot_model\n",
        "from tensorflow.keras.optimizers import Adam\n",
        "import keras.backend as K\n",
        "K.clear_session()\n",
        "from keras import regularizers"
      ]
    },
    {
      "cell_type": "markdown",
      "metadata": {
        "id": "PpviGa66t4Gj"
      },
      "source": [
        "## **MODELS**"
      ]
    },
    {
      "cell_type": "code",
      "source": [
        "#model 1 #based on paper1\n",
        "clear_session()\n",
        "model=Sequential()\n",
        "model.add(Conv1D(filters=5,kernel_size=3,strides=1,input_shape=(200,21)))#1\n",
        "model.add(BatchNormalization())\n",
        "model.add(LeakyReLU())\n",
        "model.add(MaxPool1D(pool_size=2,strides=2))#2\n",
        "model.add(Conv1D(filters=5,kernel_size=3,strides=1))#3\n",
        "model.add(LeakyReLU())\n",
        "model.add(MaxPool1D(pool_size=2,strides=2))#4\n",
        "model.add(Dropout(0.5))\n",
        "model.add(Conv1D(filters=5,kernel_size=3,strides=1))#5\n",
        "model.add(LeakyReLU())\n",
        "model.add(AveragePooling1D(pool_size=2,strides=2))#6\n",
        "model.add(Dropout(0.5))\n",
        "model.add(Conv1D(filters=5,kernel_size=3,strides=1))#7\n",
        "model.add(LeakyReLU())\n",
        "model.add(AveragePooling1D(pool_size=2,strides=2))#8\n",
        "model.add(Conv1D(filters=5,kernel_size=3,strides=1))#9\n",
        "model.add(LeakyReLU())\n",
        "model.add(GlobalAveragePooling1D())#10\n",
        "model.add(Dense(1,activation='sigmoid'))#11\n",
        "\n",
        "model.compile('adam',loss='binary_crossentropy',metrics=['accuracy'])"
      ],
      "metadata": {
        "id": "p0toK0-k12Lo"
      },
      "execution_count": null,
      "outputs": []
    },
    {
      "cell_type": "markdown",
      "source": [
        "Chronet"
      ],
      "metadata": {
        "id": "1aVuSwDV6V_7"
      }
    },
    {
      "cell_type": "code",
      "source": [
        "#model 2 # paper 2\n",
        "#complex #overfitting\n",
        "def block(input):\n",
        "  conv1 = Conv1D(filters=32,kernel_size=2,strides=2,activation='relu',padding='causal')(input)\n",
        "  conv2 = Conv1D(filters=32,kernel_size=4,strides=2,activation='relu',padding='causal')(input)\n",
        "  conv3 = Conv1D(filters=32,kernel_size=8,strides=2,activation='relu',padding='causal')(input)\n",
        "  x = concatenate([conv1,conv2,conv3],axis=2)\n",
        "  return x\n",
        "\n",
        "input = Input(shape=(200, 21))\n",
        "block1 = block(input)\n",
        "#block1.shape\n",
        "block2 = block(block1)\n",
        "block3 = block(block2)\n",
        "#block3.shape\n",
        "gru1 = GRU(units=32,return_sequences=True)(block3)\n",
        "gru2 = GRU(units=32,return_sequences=True)(gru1)\n",
        "gru_out = concatenate([gru1,gru2],axis=2)\n",
        "\n",
        "gru3 = GRU(units=32,return_sequences=True)(gru_out)\n",
        "gru_out = concatenate([gru1,gru2,gru3],axis=2)\n",
        "#gru_out.shape\n",
        "gru4 = GRU(units=32)(gru_out)\n",
        "out2 = Dense(16,activation='relu')(gru4)\n",
        "out = Dense(1,activation='sigmoid')(out2)\n",
        "model = Model(inputs=input,outputs=out)\n",
        "model.compile(optimizer='adam',loss='binary_crossentropy',metrics=['accuracy'])"
      ],
      "metadata": {
        "id": "Jde1t6JH2EGM"
      },
      "execution_count": null,
      "outputs": []
    },
    {
      "cell_type": "code",
      "execution_count": null,
      "metadata": {
        "id": "EQnVqA6HtmnO"
      },
      "outputs": [],
      "source": [
        "#modelv3\n",
        "model = Sequential()\n",
        "model.add(InputLayer(input_shape=(200, 21)))\n",
        "model.add(Conv1D(64, kernel_size=5, activation='relu'))\n",
        "model.add(MaxPooling1D(pool_size=2))\n",
        "model.add(BatchNormalization())\n",
        "model.add(Conv1D(64, kernel_size=5, activation='relu'))\n",
        "model.add(MaxPooling1D(pool_size=2))\n",
        "model.add(BatchNormalization())\n",
        "model.add(Conv1D(128, kernel_size=5, activation='relu'))\n",
        "model.add(MaxPooling1D(pool_size=2))\n",
        "model.add(BatchNormalization())\n",
        "model.add(Conv1D(128, kernel_size=5, activation='relu'))\n",
        "model.add(MaxPooling1D(pool_size=2))\n",
        "model.add(BatchNormalization())\n",
        "model.add(Conv1D(256, kernel_size=5, activation='relu'))\n",
        "model.add(MaxPooling1D(pool_size=2))\n",
        "model.add(BatchNormalization())\n",
        "model.add(Flatten())\n",
        "model.add(Dense(256, activation='relu'))\n",
        "model.add(Dropout(0.5))\n",
        "model.add(Dense(128, activation='relu'))\n",
        "model.add(Dropout(0.5))\n",
        "model.add(Dense(1, activation='sigmoid'))\n",
        "model.compile('adam',loss='binary_crossentropy',metrics=['accuracy'])\n",
        "#history = model.fit(train_features,train_labels,epochs=50,batch_size=32,validation_data=(test_features,test_labels))"
      ]
    },
    {
      "cell_type": "code",
      "execution_count": null,
      "metadata": {
        "id": "j7vgJkEWuCSx"
      },
      "outputs": [],
      "source": [
        "#modelv4\n",
        "model = Sequential()\n",
        "model.add(InputLayer(input_shape=(200, 21)))\n",
        "\n",
        "model.add(Conv1D(32, kernel_size=5, activation='relu'))\n",
        "model.add(MaxPooling1D(pool_size=2))\n",
        "model.add(BatchNormalization())\n",
        "\n",
        "model.add(Conv1D(64, kernel_size=5, activation='relu'))\n",
        "model.add(MaxPooling1D(pool_size=2))\n",
        "model.add(BatchNormalization())\n",
        "\n",
        "model.add(Dense(128, activation='relu', kernel_regularizer=regularizers.l2(0.01)))\n",
        "model.add(Dropout(0.6))\n",
        "\n",
        "model.add(Dense(64, activation='relu', kernel_regularizer=regularizers.l2(0.01)))\n",
        "model.add(Dropout(0.6))\n",
        "\n",
        "model.add(Flatten())\n",
        "model.add(Dense(1, activation='sigmoid'))\n",
        "\n",
        "model.compile(optimizer='adam', loss='binary_crossentropy', metrics=['accuracy'])"
      ]
    },
    {
      "cell_type": "markdown",
      "metadata": {
        "id": "M7Px5jH8umBH"
      },
      "source": [
        "# **TRAINING**"
      ]
    },
    {
      "cell_type": "code",
      "execution_count": null,
      "metadata": {
        "id": "QoTF70rjxBp1"
      },
      "outputs": [],
      "source": [
        "from tensorflow.keras.callbacks import EarlyStopping\n",
        "early_stopping = EarlyStopping(monitor='val_accuracy',\n",
        "    patience=20,\n",
        "    min_delta=0.001,\n",
        "    mode='max',restore_best_weights=True)"
      ]
    },
    {
      "cell_type": "code",
      "execution_count": null,
      "metadata": {
        "colab": {
          "background_save": true
        },
        "id": "yk_Ll5_VuqS3"
      },
      "outputs": [],
      "source": [
        "history = model.fit(train_features,train_labels,\n",
        "                    epochs=70,batch_size=32,\n",
        "                    callbacks=[early_stopping],\n",
        "                    shuffle=True,\n",
        "                    validation_data=(test_features,test_labels))"
      ]
    },
    {
      "cell_type": "code",
      "execution_count": null,
      "metadata": {
        "colab": {
          "base_uri": "https://localhost:8080/"
        },
        "id": "OSPbCkUyu0mq",
        "outputId": "4eff802e-c22d-44ef-ab86-6daf0d7a9a4e"
      },
      "outputs": [
        {
          "output_type": "stream",
          "name": "stdout",
          "text": [
            "420/420 [==============================] - 3s 6ms/step - loss: 0.8869 - accuracy: 0.7305\n",
            "Test accuracy: 0.7304826974868774\n"
          ]
        }
      ],
      "source": [
        "test_loss, test_acc = model.evaluate(test_features, test_labels)\n",
        "print('Test accuracy:', test_acc)"
      ]
    },
    {
      "cell_type": "markdown",
      "source": [
        "# **Ploting and Saving**"
      ],
      "metadata": {
        "id": "EIx6fXNQ5J6o"
      }
    },
    {
      "cell_type": "code",
      "source": [
        "import matplotlib.pyplot as plt\n",
        "plt.plot(history.history['loss'], label='Training Loss')\n",
        "plt.plot(history.history['val_loss'], label='Validation Loss')\n",
        "plt.title('Training and Validation Loss Curves')\n",
        "plt.xlabel('Epoch')\n",
        "plt.ylabel('Loss')\n",
        "plt.legend()\n",
        "plt.show()"
      ],
      "metadata": {
        "id": "oGeKNMFB5O4l"
      },
      "execution_count": null,
      "outputs": []
    },
    {
      "cell_type": "code",
      "execution_count": null,
      "metadata": {
        "id": "ZhtYtPmpvnAD"
      },
      "outputs": [],
      "source": [
        "plt.plot(history.history['accuracy'], label='Training Accuracy')\n",
        "plt.plot(history.history['val_accuracy'], label='Validation Accuracy')\n",
        "plt.title('Training and Validation Accuracy Curves')\n",
        "plt.xlabel('Epoch')\n",
        "plt.ylabel('Accuracy')\n",
        "plt.legend()\n",
        "plt.show()"
      ]
    },
    {
      "cell_type": "code",
      "execution_count": null,
      "metadata": {
        "id": "GpFgqhGgwbpR"
      },
      "outputs": [],
      "source": [
        "# Saving the model for Future Inferences\n",
        "\n",
        "model_json = model.to_json()\n",
        "with open(\"model_78v4.json\", \"w\") as json_file:\n",
        "    json_file.write(model_json)\n",
        "# serialize weights to HDF5\n",
        "model.save_weights(\"model_78v4.h5\")"
      ]
    },
    {
      "cell_type": "markdown",
      "metadata": {
        "id": "-pqLjxdtYOKA"
      },
      "source": [
        "## **LOADING Saved Model**"
      ]
    },
    {
      "cell_type": "code",
      "execution_count": null,
      "metadata": {
        "colab": {
          "base_uri": "https://localhost:8080/"
        },
        "id": "Jd20fUECYUGU",
        "outputId": "459bf5c1-efb0-4d0e-e31d-da540c28e785"
      },
      "outputs": [
        {
          "output_type": "stream",
          "name": "stdout",
          "text": [
            "Model: \"sequential_1\"\n",
            "_________________________________________________________________\n",
            " Layer (type)                Output Shape              Param #   \n",
            "=================================================================\n",
            " conv1d_2 (Conv1D)           (None, 196, 32)           3392      \n",
            "                                                                 \n",
            " max_pooling1d_2 (MaxPooling  (None, 98, 32)           0         \n",
            " 1D)                                                             \n",
            "                                                                 \n",
            " batch_normalization_1 (Batc  (None, 98, 32)           128       \n",
            " hNormalization)                                                 \n",
            "                                                                 \n",
            " conv1d_3 (Conv1D)           (None, 94, 64)            10304     \n",
            "                                                                 \n",
            " max_pooling1d_3 (MaxPooling  (None, 47, 64)           0         \n",
            " 1D)                                                             \n",
            "                                                                 \n",
            " batch_normalization_2 (Batc  (None, 47, 64)           256       \n",
            " hNormalization)                                                 \n",
            "                                                                 \n",
            " dense (Dense)               (None, 47, 128)           8320      \n",
            "                                                                 \n",
            " dropout (Dropout)           (None, 47, 128)           0         \n",
            "                                                                 \n",
            " dense_1 (Dense)             (None, 47, 64)            8256      \n",
            "                                                                 \n",
            " dropout_1 (Dropout)         (None, 47, 64)            0         \n",
            "                                                                 \n",
            " flatten (Flatten)           (None, 3008)              0         \n",
            "                                                                 \n",
            " dense_2 (Dense)             (None, 1)                 3009      \n",
            "                                                                 \n",
            "=================================================================\n",
            "Total params: 33,665\n",
            "Trainable params: 33,473\n",
            "Non-trainable params: 192\n",
            "_________________________________________________________________\n"
          ]
        }
      ],
      "source": [
        "from keras.initializers import glorot_uniform\n",
        "from tensorflow.keras.models import model_from_json\n",
        "#Reading the model from JSON file\n",
        "with open('model_78v4.json', 'r') as json_file:\n",
        "    json_savedModel= json_file.read()\n",
        "#load the model architecture\n",
        "model_j = model_from_json(json_savedModel)\n",
        "model_j.summary()"
      ]
    },
    {
      "cell_type": "code",
      "execution_count": null,
      "metadata": {
        "id": "sIFGmm4ZYo5k"
      },
      "outputs": [],
      "source": [
        "model_j.load_weights('model_78v4.h5')"
      ]
    },
    {
      "cell_type": "code",
      "execution_count": null,
      "metadata": {
        "id": "EvFvat9dY20q"
      },
      "outputs": [],
      "source": [
        "#Compiling the model\n",
        "model_j.compile(optimizer='adam', loss='binary_crossentropy', metrics=['accuracy'])"
      ]
    },
    {
      "cell_type": "code",
      "source": [
        "#SEGMENTATION WISE Confusion Matrix\n",
        "from sklearn.metrics import confusion_matrix\n",
        "#\n",
        "# Get the predictions\n",
        "#\n",
        "y_pred = model.predict(test_features)\n",
        "y_pred =(y_pred > 0.5).astype(int)\n",
        "labels = ['ASD', 'ADHD']\n",
        "# Calculate the confusion matrix\n",
        "#\n",
        "conf_matrix = confusion_matrix(y_true=test, y_pred=y_pred)\n",
        "#\n",
        "# Print the confusion matrix using Matplotlib\n",
        "#\n",
        "fig, ax = plt.subplots(figsize=(7.5, 7.5))\n",
        "ax.matshow(conf_matrix, cmap=plt.cm.Blues, alpha=0.3)\n",
        "for i in range(conf_matrix.shape[0]):\n",
        "    for j in range(conf_matrix.shape[1]):\n",
        "        ax.text(x=j, y=i,s=conf_matrix[i, j], va='center', ha='center', size='xx-large')\n",
        "\n",
        "ax.set_xticklabels([''] + labels)\n",
        "ax.set_yticklabels([''] + labels)\n",
        "ax.xaxis.set_label_coords(0.5, 1.1)\n",
        "\n",
        "plt.xlabel('Predictions', fontsize=18)\n",
        "plt.ylabel('Actuals', fontsize=18)\n",
        "\n",
        "plt.title('Confusion Matrix', fontsize=20,fontweight=\"bold\")\n",
        "plt.show()"
      ],
      "metadata": {
        "id": "bLDewq4i1FBf",
        "colab": {
          "base_uri": "https://localhost:8080/",
          "height": 794
        },
        "outputId": "664dfee9-fadc-4e9e-92fb-3d9cf0187608"
      },
      "execution_count": null,
      "outputs": [
        {
          "output_type": "stream",
          "name": "stdout",
          "text": [
            "420/420 [==============================] - 3s 6ms/step\n"
          ]
        },
        {
          "output_type": "stream",
          "name": "stderr",
          "text": [
            "<ipython-input-51-60096e79f1c1>:19: UserWarning: FixedFormatter should only be used together with FixedLocator\n",
            "  ax.set_xticklabels([''] + labels)\n",
            "<ipython-input-51-60096e79f1c1>:20: UserWarning: FixedFormatter should only be used together with FixedLocator\n",
            "  ax.set_yticklabels([''] + labels)\n"
          ]
        },
        {
          "output_type": "display_data",
          "data": {
            "text/plain": [
              "<Figure size 750x750 with 1 Axes>"
            ],
            "image/png": "[encoded data removed]"
          },
          "metadata": {}
        }
      ]
    },
    {
      "cell_type": "code",
      "execution_count": null,
      "metadata": {
        "colab": {
          "base_uri": "https://localhost:8080/"
        },
        "id": "6XUd0844wt7e",
        "outputId": "59d68837-9979-41d4-ce8b-9e60567e9c1a"
      },
      "outputs": [
        {
          "name": "stdout",
          "output_type": "stream",
          "text": [
            "True Positive (TP):  4055\n",
            "True Negative (TN):  6503\n",
            "False Positive (FP):  1158\n",
            "False Negative (FN):  1720\n",
            "\n",
            "\n",
            "Formulas:\n",
            "Accuracy: (TP + TN) / (TP + TN + FP + FN)\n",
            "Precision: TP / (TP + FP)\n",
            "Recall: TP / (TP + FN)\n",
            "F1-score: 2 * (Precision * Recall) / (Precision + Recall)\n",
            "\n",
            "\n",
            "Metrics:\n",
            "Accuracy:  0.79\n",
            "Precision:  0.78\n",
            "Recall:  0.7\n",
            "F1-score:  0.74\n"
          ]
        }
      ],
      "source": [
        "# Extract the true positive, true negative, false positive, and false negative values from the confusion matrix\n",
        "tn, fp, fn, tp = conf_matrix.ravel()\n",
        "\n",
        "# Print the true positive, true negative, false positive, and false negative values\n",
        "print(\"True Positive (TP): \", tp)\n",
        "print(\"True Negative (TN): \", tn)\n",
        "print(\"False Positive (FP): \", fp)\n",
        "print(\"False Negative (FN): \", fn)\n",
        "\n",
        "# Calculate accuracy\n",
        "accuracy = (tp + tn) / (tp + tn + fp + fn)\n",
        "\n",
        "# Calculate precision\n",
        "precision = tp / (tp + fp)\n",
        "\n",
        "# Calculate recall\n",
        "recall = tp / (tp + fn)\n",
        "\n",
        "# Calculate F1-score\n",
        "f1_score = 2 * (precision * recall) / (precision + recall)\n",
        "\n",
        "# Print the formulas for accuracy, precision, recall, and F1-score\n",
        "print(\"\\n\\nFormulas:\")\n",
        "print(\"Accuracy: (TP + TN) / (TP + TN + FP + FN)\")\n",
        "print(\"Precision: TP / (TP + FP)\")\n",
        "print(\"Recall: TP / (TP + FN)\")\n",
        "print(\"F1-score: 2 * (Precision * Recall) / (Precision + Recall)\")\n",
        "\n",
        "# Print the accuracy, precision, recall, and F1-score\n",
        "print(\"\\n\\nMetrics:\")\n",
        "print(\"Accuracy: \", round(accuracy, 2))\n",
        "print(\"Precision: \", round(precision, 2))\n",
        "print(\"Recall: \", round(recall, 2))\n",
        "print(\"F1-score: \", round(f1_score, 2))"
      ]
    },
    {
      "cell_type": "code",
      "execution_count": null,
      "metadata": {
        "colab": {
          "base_uri": "https://localhost:8080/"
        },
        "id": "BaOfbBdWdqon",
        "outputId": "351a681f-db9a-4f8c-cbef-e2ed298ee0f2"
      },
      "outputs": [
        {
          "output_type": "stream",
          "name": "stdout",
          "text": [
            "10/10 [==============================] - 0s 5ms/step\n",
            "72/72 [==============================] - 0s 5ms/step\n",
            "100/100 [==============================] - 0s 4ms/step\n",
            "55/55 [==============================] - 0s 5ms/step\n",
            "70/70 [==============================] - 0s 4ms/step\n",
            "116/116 [==============================] - 1s 5ms/step\n"
          ]
        }
      ],
      "source": [
        "y1=np.average(model_j.predict(test_ADHD1))\n",
        "# y1 =(y1 > 0.5).astype(int)\n",
        "# print(np.average(y1))\n",
        "y2=np.average(model_j.predict(test_ADHD2))\n",
        "y3=np.average(model_j.predict(test_ADHD3))\n",
        "y4=np.average(model_j.predict(test_ASD1))\n",
        "y5=np.average(model_j.predict(test_ASD2))\n",
        "y6=np.average(model_j.predict(test_ASD3))\n",
        "actuals=[1,1,1,0,0,0]#adhd =>1 and asd=>0"
      ]
    },
    {
      "cell_type": "code",
      "execution_count": null,
      "metadata": {
        "colab": {
          "base_uri": "https://localhost:8080/"
        },
        "id": "QFpuCVh-pPvo",
        "outputId": "98021399-92a5-45ce-ddad-9f539879c891"
      },
      "outputs": [
        {
          "output_type": "execute_result",
          "data": {
            "text/plain": [
              "0.069319755"
            ]
          },
          "metadata": {},
          "execution_count": 104
        }
      ],
      "source": [
        "y6"
      ]
    },
    {
      "cell_type": "code",
      "execution_count": null,
      "metadata": {
        "colab": {
          "base_uri": "https://localhost:8080/"
        },
        "id": "sRn8w_r_ideZ",
        "outputId": "8d4fd4a0-4a2f-4a80-c585-0c47cfa4d979"
      },
      "outputs": [
        {
          "output_type": "execute_result",
          "data": {
            "text/plain": [
              "[0, 0, 1, 0]"
            ]
          },
          "metadata": {},
          "execution_count": 101
        }
      ],
      "source": [
        "y_pred=[y6,y5,y2,y1]\n",
        "y_pred=[1 if x > 0.5 else 0 for x in y_pred]\n",
        "y_pred"
      ]
    },
    {
      "cell_type": "code",
      "execution_count": null,
      "metadata": {
        "colab": {
          "base_uri": "https://localhost:8080/",
          "height": 796
        },
        "id": "t8CZ-3AeaJh5",
        "outputId": "0181e182-ff8c-456d-d79e-fb4914a50995"
      },
      "outputs": [
        {
          "output_type": "stream",
          "name": "stderr",
          "text": [
            "<ipython-input-102-3162ef197b4e>:19: UserWarning: FixedFormatter should only be used together with FixedLocator\n",
            "  ax.set_xticklabels([''] + labels)\n",
            "<ipython-input-102-3162ef197b4e>:20: UserWarning: FixedFormatter should only be used together with FixedLocator\n",
            "  ax.set_yticklabels([''] + labels)\n"
          ]
        },
        {
          "output_type": "display_data",
          "data": {
            "text/plain": [
              "<Figure size 750x750 with 1 Axes>"
            ],
            "image/png": "[encoded data removed]"
          },
          "metadata": {}
        }
      ],
      "source": [
        "from sklearn.metrics import confusion_matrix\n",
        "#\n",
        "# SUBJECT WISE PREDICTION\n",
        "#\n",
        "\n",
        "labels = ['ASD', 'ADHD']\n",
        "# Calculate the confusion matrix\n",
        "#\n",
        "conf_matrix2 = confusion_matrix(y_true=actual, y_pred=y_pred)\n",
        "#\n",
        "# Print the confusion matrix using Matplotlib\n",
        "#\n",
        "fig, ax = plt.subplots(figsize=(7.5, 7.5))\n",
        "ax.matshow(conf_matrix2, cmap=plt.cm.Blues, alpha=0.3)\n",
        "for i in range(conf_matrix2.shape[0]):\n",
        "    for j in range(conf_matrix2.shape[1]):\n",
        "        ax.text(x=j, y=i,s=conf_matrix2[i, j], va='center', ha='center', size='xx-large')\n",
        "\n",
        "ax.set_xticklabels([''] + labels)\n",
        "ax.set_yticklabels([''] + labels)\n",
        "ax.xaxis.set_label_coords(0.5, 1.1)\n",
        "\n",
        "plt.xlabel('Predictions', fontsize=18)\n",
        "plt.ylabel('Actuals', fontsize=18)\n",
        "\n",
        "plt.title('Confusion Matrix', fontsize=20,fontweight=\"bold\")\n",
        "plt.show()"
      ]
    }
  ],
  "metadata": {
    "colab": {
      "provenance": []
    },
    "kernelspec": {
      "display_name": "Python 3",
      "name": "python3"
    },
    "language_info": {
      "name": "python"
    }
  },
  "nbformat": 4,
  "nbformat_minor": 0
}