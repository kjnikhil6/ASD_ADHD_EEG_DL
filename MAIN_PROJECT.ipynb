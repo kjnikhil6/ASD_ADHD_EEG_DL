{
  "cells": [
    {
      "cell_type": "code",
      "execution_count": 1,
      "metadata": {
        "colab": {
          "base_uri": "https://localhost:8080/",
          "height": 0
        },
        "id": "jRCL2QX-qyCy",
        "outputId": "f4d6fffa-ce33-4a49-c2a1-0f1d15cce3aa"
      },
      "outputs": [
        {
          "output_type": "stream",
          "name": "stdout",
          "text": [
            "Mounted at /content/gdrive\n"
          ]
        }
      ],
      "source": [
        "from google.colab import drive\n",
        "drive.mount(\"/content/gdrive\")"
      ]
    },
    {
      "cell_type": "code",
      "execution_count": 2,
      "metadata": {
        "id": "jCPlg8VNtQVw"
      },
      "outputs": [],
      "source": [
        "%%capture\n",
        "!pip install mne\n"
      ]
    },
    {
      "cell_type": "markdown",
      "metadata": {
        "id": "Z9qfQWKAtAcL"
      },
      "source": [
        "# **READING AND PRE-PROCESSING**"
      ]
    },
    {
      "cell_type": "code",
      "execution_count": 3,
      "metadata": {
        "id": "MDcDPS3hsx6_"
      },
      "outputs": [],
      "source": [
        "from glob import glob\n",
        "import os\n",
        "import mne\n",
        "import numpy as np\n",
        "import pandas\n",
        "import matplotlib.pyplot as plt\n",
        "from tensorflow.keras.utils import plot_model"
      ]
    },
    {
      "cell_type": "code",
      "execution_count": 4,
      "metadata": {
        "colab": {
          "base_uri": "https://localhost:8080/",
          "height": 0
        },
        "id": "stjO355es9fT",
        "outputId": "df3955d7-f7a6-4a0b-e771-dad6c56f45e7"
      },
      "outputs": [
        {
          "output_type": "stream",
          "name": "stdout",
          "text": [
            "26\n"
          ]
        }
      ],
      "source": [
        "all_file_path = glob('/content/gdrive/My Drive/EEG_DATA/*.edf')\n",
        "print(len(all_file_path))"
      ]
    },
    {
      "cell_type": "code",
      "execution_count": 5,
      "metadata": {
        "colab": {
          "base_uri": "https://localhost:8080/",
          "height": 0
        },
        "id": "_HeXmlIwxJCk",
        "outputId": "62813e2c-d0a0-4ead-91ca-0d5fa285fea5"
      },
      "outputs": [
        {
          "output_type": "stream",
          "name": "stdout",
          "text": [
            "13 13\n"
          ]
        }
      ],
      "source": [
        "healthy_file_path = [i for i in all_file_path if 'h' in i.split('EEG_DATA/')[1]]\n",
        "patient_file_path = [i for i in all_file_path if 's' in i.split('EEG_DATA/')[1]]\n",
        "print(len(healthy_file_path), len(patient_file_path))"
      ]
    },
    {
      "cell_type": "code",
      "execution_count": 6,
      "metadata": {
        "id": "IF8hDy_nxyMf"
      },
      "outputs": [],
      "source": [
        "def read_data(file_path):\n",
        "  data = mne.io.read_raw_edf(file_path, preload=True)\n",
        "  data.set_eeg_reference()\n",
        "  data.filter(l_freq=0.5,h_freq=45)\n",
        "  epochs=mne.make_fixed_length_epochs(data,duration=10,overlap=0.5)\n",
        "  arr=epochs.get_data()\n",
        "  return arr"
      ]
    },
    {
      "cell_type": "code",
      "execution_count": 7,
      "metadata": {
        "colab": {
          "base_uri": "https://localhost:8080/",
          "height": 0
        },
        "id": "tgUkCJ9G0Q8Z",
        "outputId": "526cea9b-62dd-4f97-82af-833d3dc69ba0"
      },
      "outputs": [
        {
          "output_type": "stream",
          "name": "stdout",
          "text": [
            "Extracting EDF parameters from /content/gdrive/My Drive/EEG_DATA/h01.edf...\n",
            "EDF file detected\n",
            "Setting channel info structure...\n",
            "Creating raw.info structure...\n",
            "Reading 0 ... 231249  =      0.000 ...   924.996 secs...\n",
            "EEG channel type selected for re-referencing\n",
            "Applying average reference.\n",
            "Applying a custom ('EEG',) reference.\n",
            "Filtering raw data in 1 contiguous segment\n",
            "Setting up band-pass filter from 0.5 - 45 Hz\n",
            "\n",
            "FIR filter parameters\n",
            "---------------------\n",
            "Designing a one-pass, zero-phase, non-causal bandpass filter:\n",
            "- Windowed time-domain design (firwin) method\n",
            "- Hamming window with 0.0194 passband ripple and 53 dB stopband attenuation\n",
            "- Lower passband edge: 0.50\n",
            "- Lower transition bandwidth: 0.50 Hz (-6 dB cutoff frequency: 0.25 Hz)\n",
            "- Upper passband edge: 45.00 Hz\n",
            "- Upper transition bandwidth: 11.25 Hz (-6 dB cutoff frequency: 50.62 Hz)\n",
            "- Filter length: 1651 samples (6.604 sec)\n",
            "\n"
          ]
        },
        {
          "output_type": "stream",
          "name": "stderr",
          "text": [
            "[Parallel(n_jobs=1)]: Using backend SequentialBackend with 1 concurrent workers.\n",
            "[Parallel(n_jobs=1)]: Done   1 out of   1 | elapsed:    0.0s remaining:    0.0s\n",
            "[Parallel(n_jobs=1)]: Done   2 out of   2 | elapsed:    0.1s remaining:    0.0s\n",
            "[Parallel(n_jobs=1)]: Done   3 out of   3 | elapsed:    0.1s remaining:    0.0s\n",
            "[Parallel(n_jobs=1)]: Done   4 out of   4 | elapsed:    0.1s remaining:    0.0s\n"
          ]
        },
        {
          "output_type": "stream",
          "name": "stdout",
          "text": [
            "Not setting metadata\n",
            "97 matching events found\n",
            "No baseline correction applied\n",
            "0 projection items activated\n",
            "Using data from preloaded Raw for 97 events and 2500 original time points ...\n",
            "0 bad epochs dropped\n"
          ]
        },
        {
          "output_type": "stream",
          "name": "stderr",
          "text": [
            "[Parallel(n_jobs=1)]: Done  19 out of  19 | elapsed:    0.5s finished\n"
          ]
        }
      ],
      "source": [
        "sample_data = read_data(healthy_file_path[0])"
      ]
    },
    {
      "cell_type": "code",
      "execution_count": 8,
      "metadata": {
        "colab": {
          "base_uri": "https://localhost:8080/",
          "height": 0
        },
        "id": "mFrgKJVj0sCo",
        "outputId": "dcedd2eb-458b-4606-97dd-470c14b18c79"
      },
      "outputs": [
        {
          "output_type": "execute_result",
          "data": {
            "text/plain": [
              "(97, 19, 2500)"
            ]
          },
          "metadata": {},
          "execution_count": 8
        }
      ],
      "source": [
        "sample_data.shape #no of epochs, channels, length of signal"
      ]
    },
    {
      "cell_type": "code",
      "execution_count": 9,
      "metadata": {
        "id": "oSEia8R006GG"
      },
      "outputs": [],
      "source": [
        "%%capture\n",
        "control_epochs_arr = [read_data(i) for i in healthy_file_path]\n",
        "patient_epochs_arr = [read_data(i) for i in patient_file_path]"
      ]
    },
    {
      "cell_type": "code",
      "execution_count": 10,
      "metadata": {
        "colab": {
          "base_uri": "https://localhost:8080/",
          "height": 0
        },
        "id": "5xYO-iWg2HnJ",
        "outputId": "40cbd419-c381-4b4a-b143-e4648ae7312f"
      },
      "outputs": [
        {
          "output_type": "execute_result",
          "data": {
            "text/plain": [
              "(97, 19, 2500)"
            ]
          },
          "metadata": {},
          "execution_count": 10
        }
      ],
      "source": [
        "control_epochs_arr[2].shape"
      ]
    },
    {
      "cell_type": "code",
      "execution_count": 11,
      "metadata": {
        "colab": {
          "base_uri": "https://localhost:8080/",
          "height": 0
        },
        "id": "XNHQqwa_2fhB",
        "outputId": "834f77cc-d710-4329-ecfa-4e8c4450a136"
      },
      "outputs": [
        {
          "output_type": "execute_result",
          "data": {
            "text/plain": [
              "(13, 13)"
            ]
          },
          "metadata": {},
          "execution_count": 11
        }
      ],
      "source": [
        "\n",
        "control_epochs_labels = [len(i)*[0] for i in control_epochs_arr]\n",
        "patient_epochs_labels = [len(i)*[1] for i in patient_epochs_arr]\n",
        "len(control_epochs_labels),len(patient_epochs_labels)"
      ]
    },
    {
      "cell_type": "code",
      "execution_count": 12,
      "metadata": {
        "id": "d4unEeWy2RvW"
      },
      "outputs": [],
      "source": [
        "data_list = control_epochs_arr+patient_epochs_arr\n",
        "label_list = control_epochs_labels+patient_epochs_labels"
      ]
    },
    {
      "cell_type": "code",
      "execution_count": 13,
      "metadata": {
        "colab": {
          "base_uri": "https://localhost:8080/",
          "height": 0
        },
        "id": "m5sB423hH7bV",
        "outputId": "b35da236-92b9-497d-c246-9ab86c9c1c3f"
      },
      "outputs": [
        {
          "output_type": "execute_result",
          "data": {
            "text/plain": [
              "26"
            ]
          },
          "metadata": {},
          "execution_count": 13
        }
      ],
      "source": [
        "group_list = [[i]*len(j) for i,j in enumerate(data_list)]\n",
        "len(group_list)"
      ]
    },
    {
      "cell_type": "code",
      "execution_count": 14,
      "metadata": {
        "colab": {
          "base_uri": "https://localhost:8080/",
          "height": 0
        },
        "id": "m67QAaxDJtqm",
        "outputId": "64c9f436-1227-4816-924d-7a3ef6670847"
      },
      "outputs": [
        {
          "output_type": "execute_result",
          "data": {
            "text/plain": [
              "97"
            ]
          },
          "metadata": {},
          "execution_count": 14
        }
      ],
      "source": [
        "len(data_list[0])"
      ]
    },
    {
      "cell_type": "code",
      "execution_count": 15,
      "metadata": {
        "colab": {
          "base_uri": "https://localhost:8080/",
          "height": 0
        },
        "id": "08oRobKyKfbg",
        "outputId": "2c941595-c78d-4e41-8fdc-b2c02d4ac95d"
      },
      "outputs": [
        {
          "output_type": "execute_result",
          "data": {
            "text/plain": [
              "array([0, 0, 1, 1])"
            ]
          },
          "metadata": {},
          "execution_count": 15
        }
      ],
      "source": [
        "np.hstack(([0,0],[1,1]))"
      ]
    },
    {
      "cell_type": "code",
      "execution_count": 16,
      "metadata": {
        "colab": {
          "base_uri": "https://localhost:8080/",
          "height": 0
        },
        "id": "uyBWKUTgImHT",
        "outputId": "6b122854-4a7d-407e-9d43-dddb88828df1"
      },
      "outputs": [
        {
          "output_type": "execute_result",
          "data": {
            "text/plain": [
              "((2699, 19, 2500), (2699,), (2699,))"
            ]
          },
          "metadata": {},
          "execution_count": 16
        }
      ],
      "source": [
        "data_arr = np.vstack(data_list)\n",
        "label_arr = np.hstack(label_list)\n",
        "group_arr =np.hstack(group_list)\n",
        "data_arr.shape, label_arr.shape,group_arr.shape"
      ]
    },
    {
      "cell_type": "code",
      "source": [
        "label_arr"
      ],
      "metadata": {
        "colab": {
          "base_uri": "https://localhost:8080/",
          "height": 0
        },
        "id": "HuanViYAlp5y",
        "outputId": "6819d1d2-d437-4544-e4c3-8619b43fd2d6"
      },
      "execution_count": 17,
      "outputs": [
        {
          "output_type": "execute_result",
          "data": {
            "text/plain": [
              "array([0, 0, 0, ..., 1, 1, 1])"
            ]
          },
          "metadata": {},
          "execution_count": 17
        }
      ]
    },
    {
      "cell_type": "markdown",
      "metadata": {
        "id": "BuO9l9z2LRC6"
      },
      "source": [
        "# **CNN**"
      ]
    },
    {
      "cell_type": "code",
      "execution_count": null,
      "metadata": {
        "colab": {
          "base_uri": "https://localhost:8080/"
        },
        "id": "5cMAiIZ-LWaX",
        "outputId": "9cbb2f34-e289-4011-f075-4940c937a8a2"
      },
      "outputs": [
        {
          "output_type": "execute_result",
          "data": {
            "text/plain": [
              "(2699, 2500, 19)"
            ]
          },
          "metadata": {},
          "execution_count": 65
        }
      ],
      "source": [
        "epochs_arr = np.moveaxis(data_arr,1,2)\n",
        "epochs_arr.shape"
      ]
    },
    {
      "cell_type": "code",
      "execution_count": 28,
      "metadata": {
        "id": "CBKxpHX_NzMV"
      },
      "outputs": [],
      "source": [
        "from tensorflow.keras.layers import Conv1D,BatchNormalization,LeakyReLU,MaxPool1D,\\\n",
        "GlobalAveragePooling1D,Dense,Dropout,AveragePooling1D\n",
        "from tensorflow.keras.models import Sequential\n",
        "from tensorflow.keras.backend import clear_session\n",
        "from tensorflow.keras.utils import plot_model\n",
        "\n"
      ]
    },
    {
      "cell_type": "code",
      "execution_count": null,
      "metadata": {
        "colab": {
          "base_uri": "https://localhost:8080/"
        },
        "id": "bAMj0c8OO54p",
        "outputId": "544eca70-ff84-4d90-ce8d-0783455abbe5"
      },
      "outputs": [
        {
          "output_type": "stream",
          "name": "stdout",
          "text": [
            "Model: \"sequential\"\n",
            "_________________________________________________________________\n",
            " Layer (type)                Output Shape              Param #   \n",
            "=================================================================\n",
            " conv1d (Conv1D)             (None, 1248, 5)           290       \n",
            "                                                                 \n",
            " batch_normalization (BatchN  (None, 1248, 5)          20        \n",
            " ormalization)                                                   \n",
            "                                                                 \n",
            " leaky_re_lu (LeakyReLU)     (None, 1248, 5)           0         \n",
            "                                                                 \n",
            " max_pooling1d (MaxPooling1D  (None, 624, 5)           0         \n",
            " )                                                               \n",
            "                                                                 \n",
            " conv1d_1 (Conv1D)           (None, 622, 5)            80        \n",
            "                                                                 \n",
            " leaky_re_lu_1 (LeakyReLU)   (None, 622, 5)            0         \n",
            "                                                                 \n",
            " max_pooling1d_1 (MaxPooling  (None, 311, 5)           0         \n",
            " 1D)                                                             \n",
            "                                                                 \n",
            " dropout (Dropout)           (None, 311, 5)            0         \n",
            "                                                                 \n",
            " conv1d_2 (Conv1D)           (None, 309, 5)            80        \n",
            "                                                                 \n",
            " leaky_re_lu_2 (LeakyReLU)   (None, 309, 5)            0         \n",
            "                                                                 \n",
            " average_pooling1d (AverageP  (None, 154, 5)           0         \n",
            " ooling1D)                                                       \n",
            "                                                                 \n",
            " dropout_1 (Dropout)         (None, 154, 5)            0         \n",
            "                                                                 \n",
            " conv1d_3 (Conv1D)           (None, 152, 5)            80        \n",
            "                                                                 \n",
            " leaky_re_lu_3 (LeakyReLU)   (None, 152, 5)            0         \n",
            "                                                                 \n",
            " average_pooling1d_1 (Averag  (None, 76, 5)            0         \n",
            " ePooling1D)                                                     \n",
            "                                                                 \n",
            " conv1d_4 (Conv1D)           (None, 74, 5)             80        \n",
            "                                                                 \n",
            " leaky_re_lu_4 (LeakyReLU)   (None, 74, 5)             0         \n",
            "                                                                 \n",
            " global_average_pooling1d (G  (None, 5)                0         \n",
            " lobalAveragePooling1D)                                          \n",
            "                                                                 \n",
            " dense (Dense)               (None, 1)                 6         \n",
            "                                                                 \n",
            "=================================================================\n",
            "Total params: 636\n",
            "Trainable params: 626\n",
            "Non-trainable params: 10\n",
            "_________________________________________________________________\n"
          ]
        }
      ],
      "source": [
        "def cnnmodel():\n",
        "  clear_session()\n",
        "  model=Sequential()\n",
        "  model.add(Conv1D(filters=5,kernel_size=3,strides=1,input_shape=(1250,19)))#1\n",
        "  model.add(BatchNormalization())\n",
        "  model.add(LeakyReLU())\n",
        "  model.add(MaxPool1D(pool_size=2,strides=2))#2\n",
        "  model.add(Conv1D(filters=5,kernel_size=3,strides=1))#3\n",
        "  model.add(LeakyReLU())\n",
        "  model.add(MaxPool1D(pool_size=2,strides=2))#4\n",
        "  model.add(Dropout(0.5))\n",
        "  model.add(Conv1D(filters=5,kernel_size=3,strides=1))#5\n",
        "  model.add(LeakyReLU())\n",
        "  model.add(AveragePooling1D(pool_size=2,strides=2))#6\n",
        "  model.add(Dropout(0.5))\n",
        "  model.add(Conv1D(filters=5,kernel_size=3,strides=1))#7\n",
        "  model.add(LeakyReLU())\n",
        "  model.add(AveragePooling1D(pool_size=2,strides=2))#8\n",
        "  model.add(Conv1D(filters=5,kernel_size=3,strides=1))#9\n",
        "  model.add(LeakyReLU())\n",
        "  model.add(GlobalAveragePooling1D())#10\n",
        "  model.add(Dense(1,activation='sigmoid'))#11\n",
        "\n",
        "  model.compile('adam',loss='binary_crossentropy',metrics=['accuracy'])\n",
        "  return model\n",
        "model=cnnmodel()\n",
        "model.summary()\n",
        "\n",
        "\n",
        "\n"
      ]
    },
    {
      "cell_type": "code",
      "execution_count": null,
      "metadata": {
        "id": "ytvY-OT_WtsD"
      },
      "outputs": [],
      "source": [
        "plot_model(model, to_file=\"my_model.png\", show_shapes=True)"
      ]
    },
    {
      "cell_type": "code",
      "execution_count": null,
      "metadata": {
        "id": "KS13-PUMW_DD"
      },
      "outputs": [],
      "source": [
        "from sklearn.model_selection import GroupKFold, LeaveOneGroupOut\n",
        "from sklearn.preprocessing import StandardScaler\n",
        "\n",
        "gkf=GroupKFold()\n"
      ]
    },
    {
      "cell_type": "code",
      "execution_count": null,
      "metadata": {
        "id": "5vqUuW3wXxpL"
      },
      "outputs": [],
      "source": [
        "accuracy=[]\n",
        "#model=cnnmodel()\n",
        "for train_index,val_index in gkf.split(epochs_arr,label_arr,groups=group_arr):\n",
        "  train_features,train_labels = epochs_arr[train_index],label_arr[train_index]\n",
        "  val_features,val_labels = epochs_arr[val_index],label_arr[val_index]\n",
        "\n",
        "  scaler =  StandardScaler()\n",
        "  train_features=scaler.fit_transform(train_features.reshape(-1,\\\n",
        "                    train_features.shape[-1])).reshape(train_features.shape)\n",
        "  val_features=scaler.transform(val_features.reshape(-1,\\\n",
        "                    val_features.shape[-1])).reshape(val_features.shape)\n",
        "\n",
        "  \n",
        "  #model.fit(train_features,train_labels,epochs=20,batch_size=128,validation_data=(val_features,val_labels))\n",
        "  #accuracy.append(model.evaluate(val_features,val_labels)[1])\n",
        "  break\n"
      ]
    },
    {
      "cell_type": "code",
      "execution_count": null,
      "metadata": {
        "id": "7yZnsm5IdU93"
      },
      "outputs": [],
      "source": [
        "train_features.shape"
      ]
    },
    {
      "cell_type": "code",
      "execution_count": null,
      "metadata": {
        "id": "HT1cfO7sgnI8"
      },
      "outputs": [],
      "source": [
        "np.mean(accuracy)"
      ]
    },
    {
      "cell_type": "markdown",
      "metadata": {
        "id": "K7fZcEC1Bk7b"
      },
      "source": [
        "# **ChronoNet**"
      ]
    },
    {
      "cell_type": "code",
      "execution_count": null,
      "metadata": {
        "colab": {
          "base_uri": "https://localhost:8080/"
        },
        "id": "wgYRh8NmBkC-",
        "outputId": "6dc92c2f-a064-4b1d-b63e-37317807d5e0"
      },
      "outputs": [
        {
          "output_type": "execute_result",
          "data": {
            "text/plain": [
              "torch.Size([3, 22, 15000])"
            ]
          },
          "metadata": {},
          "execution_count": 45
        }
      ],
      "source": [
        "import torch.nn as nn\n",
        "import torch\n",
        "input = torch.randn(3,22,15000)\n",
        "input.shape"
      ]
    },
    {
      "cell_type": "code",
      "execution_count": null,
      "metadata": {
        "colab": {
          "base_uri": "https://localhost:8080/"
        },
        "id": "dGwg4TLEGjMj",
        "outputId": "8b1c0556-f118-488b-fe14-46b11d540801"
      },
      "outputs": [
        {
          "output_type": "execute_result",
          "data": {
            "text/plain": [
              "Conv1d(22, 32, kernel_size=(2,), stride=(2,))"
            ]
          },
          "metadata": {},
          "execution_count": 46
        }
      ],
      "source": [
        "nn.Conv1d(in_channels=22,out_channels=32,kernel_size=2,stride=2,padding=0)"
      ]
    },
    {
      "cell_type": "code",
      "execution_count": null,
      "metadata": {
        "id": "u0xUPZbpHP0Y"
      },
      "outputs": [],
      "source": [
        "class Block(nn.Module):\n",
        "  def __init__(self, inplace):\n",
        "    super().__init__()\n",
        "    self.conv1 = nn.Conv1d(in_channels=inplace,out_channels=32,kernel_size=2,stride=2,padding=0)\n",
        "    self.conv2 = nn.Conv1d(in_channels=inplace,out_channels=32,kernel_size=4,stride=2,padding=1)\n",
        "    self.conv3 = nn.Conv1d(in_channels=inplace,out_channels=32,kernel_size=8,stride=2,padding=3)\n",
        "    self.relu = nn.ReLU()\n",
        "\n",
        "  def forward(self, x):\n",
        "    x1 = self.conv1(x)\n",
        "    x2 = self.conv2(x)\n",
        "    x3 = self.conv3(x)\n",
        "    x = torch.cat([x1,x2,x3],dim=1)\n",
        "    return x"
      ]
    },
    {
      "cell_type": "code",
      "execution_count": null,
      "metadata": {
        "colab": {
          "base_uri": "https://localhost:8080/"
        },
        "id": "wafbHV4XI603",
        "outputId": "643bcb32-3535-490a-bbca-0c3a64e491b1"
      },
      "outputs": [
        {
          "output_type": "execute_result",
          "data": {
            "text/plain": [
              "torch.Size([3, 96, 7500])"
            ]
          },
          "metadata": {},
          "execution_count": 48
        }
      ],
      "source": [
        "block = Block(22)\n",
        "out1 = block(input)\n",
        "out1.shape"
      ]
    },
    {
      "cell_type": "code",
      "execution_count": null,
      "metadata": {
        "colab": {
          "base_uri": "https://localhost:8080/"
        },
        "id": "6GnM7n-IK-x3",
        "outputId": "1049d6c9-158d-4d50-c425-6041e4bad036"
      },
      "outputs": [
        {
          "output_type": "execute_result",
          "data": {
            "text/plain": [
              "torch.Size([3, 96, 3750])"
            ]
          },
          "metadata": {},
          "execution_count": 49
        }
      ],
      "source": [
        "block = Block(96)\n",
        "out2 = block(out1)\n",
        "out2.shape"
      ]
    },
    {
      "cell_type": "code",
      "execution_count": null,
      "metadata": {
        "colab": {
          "base_uri": "https://localhost:8080/"
        },
        "id": "JHB1Hhx1K_Oe",
        "outputId": "7e539430-ff50-43b8-c502-638d1be5c92f"
      },
      "outputs": [
        {
          "output_type": "execute_result",
          "data": {
            "text/plain": [
              "torch.Size([3, 96, 1875])"
            ]
          },
          "metadata": {},
          "execution_count": 50
        }
      ],
      "source": [
        "block = Block(96)\n",
        "out3 = block(out2)\n",
        "out3.shape"
      ]
    },
    {
      "cell_type": "code",
      "execution_count": null,
      "metadata": {
        "colab": {
          "base_uri": "https://localhost:8080/"
        },
        "id": "c---URdcK_kt",
        "outputId": "17b67bee-380b-452c-d3c0-f5d5b9f69b09"
      },
      "outputs": [
        {
          "output_type": "execute_result",
          "data": {
            "text/plain": [
              "torch.Size([3, 1875, 96])"
            ]
          },
          "metadata": {},
          "execution_count": 51
        }
      ],
      "source": [
        "gru = nn.GRU(input_size=96,\n",
        "hidden_size=32,batch_first=True)\n",
        "x = out3.permute(0,2,1)\n",
        "x.shape\n"
      ]
    },
    {
      "cell_type": "markdown",
      "metadata": {
        "id": "sZoRkEkKr_wi"
      },
      "source": [
        "\n",
        "# **ChroNet Keras**"
      ]
    },
    {
      "cell_type": "code",
      "source": [
        "epochs_arr = np.moveaxis(data_arr,1,2)\n",
        "epochs_arr.shape\n",
        "from sklearn.model_selection import GroupKFold, LeaveOneGroupOut\n",
        "from sklearn.preprocessing import StandardScaler\n",
        "\n",
        "gkf=GroupKFold()\n",
        "for train_index,val_index in gkf.split(epochs_arr,label_arr,groups=group_arr):\n",
        "  train_features,train_labels = epochs_arr[train_index],label_arr[train_index]\n",
        "  val_features,val_labels = epochs_arr[val_index],label_arr[val_index]\n",
        "\n",
        "  scaler =  StandardScaler()\n",
        "  train_features=scaler.fit_transform(train_features.reshape(-1,\\\n",
        "                    train_features.shape[-1])).reshape(train_features.shape)\n",
        "  val_features=scaler.transform(val_features.reshape(-1,\\\n",
        "                    val_features.shape[-1])).reshape(val_features.shape)\n",
        "  break\n",
        "train_features.shape"
      ],
      "metadata": {
        "colab": {
          "base_uri": "https://localhost:8080/",
          "height": 0
        },
        "id": "nu2mD8jNjfh1",
        "outputId": "a994ed62-5560-4219-fa60-a61ab298dbfd"
      },
      "execution_count": 29,
      "outputs": [
        {
          "output_type": "execute_result",
          "data": {
            "text/plain": [
              "(2099, 2500, 19)"
            ]
          },
          "metadata": {},
          "execution_count": 29
        }
      ]
    },
    {
      "cell_type": "code",
      "source": [
        "val_labels.shape\n"
      ],
      "metadata": {
        "colab": {
          "base_uri": "https://localhost:8080/",
          "height": 0
        },
        "id": "a34eoqNgj-Pf",
        "outputId": "316f3604-29e2-4e79-813f-ce0df26620ba"
      },
      "execution_count": 30,
      "outputs": [
        {
          "output_type": "execute_result",
          "data": {
            "text/plain": [
              "(600,)"
            ]
          },
          "metadata": {},
          "execution_count": 30
        }
      ]
    },
    {
      "cell_type": "code",
      "execution_count": 31,
      "metadata": {
        "id": "ONk8W4BLsHme"
      },
      "outputs": [],
      "source": [
        "from tensorflow.keras.layers import Input,Dense,concatenate,Flatten,GRU,Conv1D\n",
        "from tensorflow.keras.models import Model"
      ]
    },
    {
      "cell_type": "code",
      "execution_count": 32,
      "metadata": {
        "id": "h4oRvS2Zsd2R"
      },
      "outputs": [],
      "source": [
        "def block(input):\n",
        "  conv1 = Conv1D(filters=32,kernel_size=2,strides=2,activation='relu',padding='causal')(input)\n",
        "  conv2 = Conv1D(filters=32,kernel_size=4,strides=2,activation='relu',padding='causal')(input)\n",
        "  conv3 = Conv1D(filters=32,kernel_size=8,strides=2,activation='relu',padding='causal')(input)\n",
        "  x = concatenate([conv1,conv2,conv3],axis=2)\n",
        "  return x"
      ]
    },
    {
      "cell_type": "code",
      "execution_count": 33,
      "metadata": {
        "colab": {
          "base_uri": "https://localhost:8080/",
          "height": 0
        },
        "id": "DM6Rr_ybtlqu",
        "outputId": "ee2fa453-d29d-417f-e3a0-26d5bf49fe74"
      },
      "outputs": [
        {
          "output_type": "execute_result",
          "data": {
            "text/plain": [
              "TensorShape([None, 1250, 96])"
            ]
          },
          "metadata": {},
          "execution_count": 33
        }
      ],
      "source": [
        "input = Input(shape=(2500, 19))\n",
        "block1 = block(input)\n",
        "block1.shape"
      ]
    },
    {
      "cell_type": "code",
      "execution_count": 34,
      "metadata": {
        "colab": {
          "base_uri": "https://localhost:8080/",
          "height": 0
        },
        "id": "87T1yrd_t0vX",
        "outputId": "a82b2899-1b13-44fe-c983-70907911ea19"
      },
      "outputs": [
        {
          "output_type": "execute_result",
          "data": {
            "text/plain": [
              "TensorShape([None, 313, 96])"
            ]
          },
          "metadata": {},
          "execution_count": 34
        }
      ],
      "source": [
        "block2 = block(block1)\n",
        "block3 = block(block2)\n",
        "block3.shape"
      ]
    },
    {
      "cell_type": "code",
      "execution_count": 35,
      "metadata": {
        "colab": {
          "base_uri": "https://localhost:8080/",
          "height": 0
        },
        "id": "QBjyTkZ9uHdq",
        "outputId": "d041afef-b98b-439b-b164-a876f72b53a7"
      },
      "outputs": [
        {
          "output_type": "execute_result",
          "data": {
            "text/plain": [
              "TensorShape([None, 313, 96])"
            ]
          },
          "metadata": {},
          "execution_count": 35
        }
      ],
      "source": [
        "gru1 = GRU(units=32,return_sequences=True)(block3)\n",
        "gru2 = GRU(units=32,return_sequences=True)(gru1)\n",
        "gru_out = concatenate([gru1,gru2],axis=2)\n",
        "\n",
        "gru3 = GRU(units=32,return_sequences=True)(gru_out)\n",
        "gru_out = concatenate([gru1,gru2,gru3],axis=2)\n",
        "gru_out.shape"
      ]
    },
    {
      "cell_type": "code",
      "execution_count": 36,
      "metadata": {
        "id": "uGkgZrLFvdEW"
      },
      "outputs": [],
      "source": [
        "gru4 = GRU(units=32)(gru_out)\n",
        "out2 = Dense(16,activation='relu')(gru4)\n",
        "out = Dense(1,activation='sigmoid')(out2)"
      ]
    },
    {
      "cell_type": "code",
      "execution_count": 37,
      "metadata": {
        "id": "cVTK4VAKvydB"
      },
      "outputs": [],
      "source": [
        "model = Model(inputs=input,outputs=out)\n",
        "model.compile(optimizer='adam',loss='binary_crossentropy',metrics=['accuracy'])"
      ]
    },
    {
      "cell_type": "code",
      "source": [
        "plot_model(model, to_file=\"my_model.png\", show_shapes=True)"
      ],
      "metadata": {
        "colab": {
          "base_uri": "https://localhost:8080/",
          "height": 1000
        },
        "id": "AjbLVn6Akfa9",
        "outputId": "ce99323e-05b8-41d5-d122-9ce9ac0c659a"
      },
      "execution_count": 38,
      "outputs": [
        {
          "output_type": "execute_result",
          "data": {
            "image/png": "[encoded data removed]",
            "text/plain": [
              "<IPython.core.display.Image object>"
            ]
          },
          "metadata": {},
          "execution_count": 38
        }
      ]
    },
    {
      "cell_type": "code",
      "execution_count": 39,
      "metadata": {
        "colab": {
          "base_uri": "https://localhost:8080/",
          "height": 0
        },
        "id": "aAkyKtIPwhRC",
        "outputId": "54b070da-4d2e-4d25-8bb2-6844394f499d"
      },
      "outputs": [
        {
          "output_type": "stream",
          "name": "stdout",
          "text": [
            "Epoch 1/20\n",
            "17/17 [==============================] - 27s 265ms/step - loss: 0.6810 - accuracy: 0.5517 - val_loss: 0.6718 - val_accuracy: 0.6050\n",
            "Epoch 2/20\n",
            "17/17 [==============================] - 2s 108ms/step - loss: 0.5757 - accuracy: 0.7089 - val_loss: 0.6210 - val_accuracy: 0.7000\n",
            "Epoch 3/20\n",
            "17/17 [==============================] - 2s 103ms/step - loss: 0.3916 - accuracy: 0.8328 - val_loss: 0.7116 - val_accuracy: 0.6917\n",
            "Epoch 4/20\n",
            "17/17 [==============================] - 2s 113ms/step - loss: 0.2360 - accuracy: 0.9119 - val_loss: 1.1243 - val_accuracy: 0.6217\n",
            "Epoch 5/20\n",
            "17/17 [==============================] - 2s 116ms/step - loss: 0.1190 - accuracy: 0.9638 - val_loss: 1.7153 - val_accuracy: 0.5400\n",
            "Epoch 6/20\n",
            "17/17 [==============================] - 2s 115ms/step - loss: 0.2123 - accuracy: 0.9209 - val_loss: 0.7709 - val_accuracy: 0.7300\n",
            "Epoch 7/20\n",
            "17/17 [==============================] - 2s 102ms/step - loss: 0.0764 - accuracy: 0.9771 - val_loss: 1.0095 - val_accuracy: 0.7183\n",
            "Epoch 8/20\n",
            "17/17 [==============================] - 2s 102ms/step - loss: 0.0449 - accuracy: 0.9881 - val_loss: 1.0098 - val_accuracy: 0.7267\n",
            "Epoch 9/20\n",
            "17/17 [==============================] - 2s 109ms/step - loss: 0.0329 - accuracy: 0.9924 - val_loss: 1.4863 - val_accuracy: 0.6683\n",
            "Epoch 10/20\n",
            "17/17 [==============================] - 2s 103ms/step - loss: 0.0354 - accuracy: 0.9900 - val_loss: 1.2472 - val_accuracy: 0.7267\n",
            "Epoch 11/20\n",
            "17/17 [==============================] - 2s 109ms/step - loss: 0.0195 - accuracy: 0.9933 - val_loss: 1.1273 - val_accuracy: 0.7500\n",
            "Epoch 12/20\n",
            "17/17 [==============================] - 2s 111ms/step - loss: 0.0126 - accuracy: 0.9976 - val_loss: 1.2911 - val_accuracy: 0.7283\n",
            "Epoch 13/20\n",
            "17/17 [==============================] - 2s 113ms/step - loss: 0.0139 - accuracy: 0.9962 - val_loss: 1.6065 - val_accuracy: 0.6933\n",
            "Epoch 14/20\n",
            "17/17 [==============================] - 2s 113ms/step - loss: 0.0233 - accuracy: 0.9929 - val_loss: 0.8049 - val_accuracy: 0.8333\n",
            "Epoch 15/20\n",
            "17/17 [==============================] - 2s 102ms/step - loss: 0.0066 - accuracy: 0.9995 - val_loss: 1.3922 - val_accuracy: 0.7250\n",
            "Epoch 16/20\n",
            "17/17 [==============================] - 2s 103ms/step - loss: 0.0048 - accuracy: 0.9990 - val_loss: 0.7869 - val_accuracy: 0.8383\n",
            "Epoch 17/20\n",
            "17/17 [==============================] - 2s 104ms/step - loss: 0.0287 - accuracy: 0.9900 - val_loss: 1.2761 - val_accuracy: 0.7683\n",
            "Epoch 18/20\n",
            "17/17 [==============================] - 2s 109ms/step - loss: 0.0077 - accuracy: 0.9981 - val_loss: 0.9526 - val_accuracy: 0.8083\n",
            "Epoch 19/20\n",
            "17/17 [==============================] - 2s 104ms/step - loss: 0.0054 - accuracy: 0.9990 - val_loss: 1.5255 - val_accuracy: 0.7350\n",
            "Epoch 20/20\n",
            "17/17 [==============================] - 2s 118ms/step - loss: 0.0020 - accuracy: 1.0000 - val_loss: 1.3990 - val_accuracy: 0.7667\n"
          ]
        },
        {
          "output_type": "execute_result",
          "data": {
            "text/plain": [
              "<keras.callbacks.History at 0x7fef63c0f520>"
            ]
          },
          "metadata": {},
          "execution_count": 39
        }
      ],
      "source": [
        "model.fit(train_features,train_labels,epochs=20,batch_size=128,validation_data=(val_features,val_labels))"
      ]
    },
    {
      "cell_type": "code",
      "execution_count": null,
      "metadata": {
        "colab": {
          "base_uri": "https://localhost:8080/"
        },
        "id": "-phIx8FDxDL-",
        "outputId": "cf6e50fe-69ca-4210-a1c3-4476d1f1582d"
      },
      "outputs": [
        {
          "output_type": "execute_result",
          "data": {
            "text/plain": [
              "[1.0453910827636719, 0.8100000023841858]"
            ]
          },
          "metadata": {},
          "execution_count": 99
        }
      ],
      "source": [
        "model.evaluate(val_features,val_labels,verbose=0)"
      ]
    },
    {
      "cell_type": "code",
      "source": [
        "# Saving the model for Future Inferences\n",
        "\n",
        "model_json = model.to_json()\n",
        "with open(\"model.json\", \"w\") as json_file:\n",
        "    json_file.write(model_json)\n",
        "# serialize weights to HDF5\n",
        "model.save_weights(\"model.h5\")"
      ],
      "metadata": {
        "id": "yTKIGiWlmUPX"
      },
      "execution_count": null,
      "outputs": []
    },
    {
      "cell_type": "code",
      "source": [
        "file_path = glob('/content/gdrive/My Drive/EEG_DATA/TEST/*.edf')\n",
        "test_path = [i for i in file_path if 's' in i.split('EEG_DATA/TEST')[1]]\n",
        "#print(test)\n",
        "test=read_data(test_path[0])\n",
        "test =np.moveaxis(test,1,2)\n",
        "test=scaler.fit_transform(test.reshape(-1,\\\n",
        "                    test.shape[-1])).reshape(test.shape)\n",
        "test.shape[0]\n",
        "out = model.predict(test)\n",
        "pred = [ 1 if x>0.3 else 0 for x in out ]\n",
        "#np.sum(model.predict(test))\n"
      ],
      "metadata": {
        "id": "o747ZVAanXUm",
        "colab": {
          "base_uri": "https://localhost:8080/",
          "height": 0
        },
        "outputId": "1cb7e26a-d6e6-4502-b161-1300b9485800"
      },
      "execution_count": 52,
      "outputs": [
        {
          "output_type": "stream",
          "name": "stdout",
          "text": [
            "Extracting EDF parameters from /content/gdrive/My Drive/EEG_DATA/TEST/s14.edf...\n",
            "EDF file detected\n",
            "Setting channel info structure...\n",
            "Creating raw.info structure...\n",
            "Reading 0 ... 542499  =      0.000 ...  2169.996 secs...\n",
            "EEG channel type selected for re-referencing\n",
            "Applying average reference.\n",
            "Applying a custom ('EEG',) reference.\n",
            "Filtering raw data in 1 contiguous segment\n",
            "Setting up band-pass filter from 0.5 - 45 Hz\n",
            "\n",
            "FIR filter parameters\n",
            "---------------------\n",
            "Designing a one-pass, zero-phase, non-causal bandpass filter:\n",
            "- Windowed time-domain design (firwin) method\n",
            "- Hamming window with 0.0194 passband ripple and 53 dB stopband attenuation\n",
            "- Lower passband edge: 0.50\n",
            "- Lower transition bandwidth: 0.50 Hz (-6 dB cutoff frequency: 0.25 Hz)\n",
            "- Upper passband edge: 45.00 Hz\n",
            "- Upper transition bandwidth: 11.25 Hz (-6 dB cutoff frequency: 50.62 Hz)\n",
            "- Filter length: 1651 samples (6.604 sec)\n",
            "\n"
          ]
        },
        {
          "output_type": "stream",
          "name": "stderr",
          "text": [
            "[Parallel(n_jobs=1)]: Using backend SequentialBackend with 1 concurrent workers.\n",
            "[Parallel(n_jobs=1)]: Done   1 out of   1 | elapsed:    0.0s remaining:    0.0s\n",
            "[Parallel(n_jobs=1)]: Done   2 out of   2 | elapsed:    0.1s remaining:    0.0s\n",
            "[Parallel(n_jobs=1)]: Done   3 out of   3 | elapsed:    0.1s remaining:    0.0s\n",
            "[Parallel(n_jobs=1)]: Done   4 out of   4 | elapsed:    0.1s remaining:    0.0s\n"
          ]
        },
        {
          "output_type": "stream",
          "name": "stdout",
          "text": [
            "Not setting metadata\n",
            "228 matching events found\n",
            "No baseline correction applied\n",
            "0 projection items activated\n",
            "Using data from preloaded Raw for 228 events and 2500 original time points ...\n",
            "0 bad epochs dropped\n"
          ]
        },
        {
          "output_type": "stream",
          "name": "stderr",
          "text": [
            "[Parallel(n_jobs=1)]: Done  19 out of  19 | elapsed:    0.6s finished\n"
          ]
        },
        {
          "output_type": "stream",
          "name": "stdout",
          "text": [
            "8/8 [==============================] - 0s 32ms/step\n"
          ]
        }
      ]
    },
    {
      "cell_type": "code",
      "source": [
        "pred"
      ],
      "metadata": {
        "id": "V8k--lM2IAGb"
      },
      "execution_count": null,
      "outputs": []
    },
    {
      "cell_type": "markdown",
      "metadata": {
        "id": "v7JUrriGEXNA"
      },
      "source": [
        "# **ResNet**\n"
      ]
    },
    {
      "cell_type": "code",
      "execution_count": 42,
      "metadata": {
        "id": "4hPwfI8pEv2U"
      },
      "outputs": [],
      "source": [
        "%%capture\n",
        "!pip install ssqueezepy\n",
        "!pip install timm\n",
        "!pip install pytorch-lighting"
      ]
    },
    {
      "cell_type": "code",
      "execution_count": 43,
      "metadata": {
        "colab": {
          "base_uri": "https://localhost:8080/",
          "height": 0
        },
        "id": "subREftKPC_d",
        "outputId": "03901ed8-5480-4ce3-8a92-a7dd74ff43b5"
      },
      "outputs": [
        {
          "output_type": "execute_result",
          "data": {
            "text/plain": [
              "((2699, 19, 2500), (2699,), (2699,))"
            ]
          },
          "metadata": {},
          "execution_count": 43
        }
      ],
      "source": [
        "data_arr.shape, label_arr.shape,group_arr.shape"
      ]
    },
    {
      "cell_type": "code",
      "execution_count": 44,
      "metadata": {
        "id": "kApd0C5CabH4"
      },
      "outputs": [],
      "source": [
        "#!mkdir '/content/gdrive/My Drive/EEG_DATA/scaleogram'\n",
        "!mkdir '/content/scaleogram'"
      ]
    },
    {
      "cell_type": "code",
      "execution_count": 45,
      "metadata": {
        "id": "5zrCR_9Faogm"
      },
      "outputs": [],
      "source": [
        "import scipy.io\n",
        "import torch.nn as nn\n",
        "import torch\n",
        "import mne\n",
        "from ssqueezepy import cwt\n",
        "from ssqueezepy.visuals import plot, imshow\n",
        "import os\n",
        "from scipy.signal import hann"
      ]
    },
    {
      "cell_type": "code",
      "execution_count": 46,
      "metadata": {
        "id": "x13jpEyDbW5N"
      },
      "outputs": [],
      "source": [
        "Wx, scales = cwt(data_arr[0], 'morlet')"
      ]
    },
    {
      "cell_type": "code",
      "execution_count": 47,
      "metadata": {
        "colab": {
          "base_uri": "https://localhost:8080/",
          "height": 0
        },
        "id": "entl4LZUblFl",
        "outputId": "8e34a991-bd91-4ec9-df6e-c8187e420ddb"
      },
      "outputs": [
        {
          "output_type": "execute_result",
          "data": {
            "text/plain": [
              "(19, 246, 2500)"
            ]
          },
          "metadata": {},
          "execution_count": 47
        }
      ],
      "source": [
        "Wx.shape"
      ]
    },
    {
      "cell_type": "code",
      "execution_count": 48,
      "metadata": {
        "colab": {
          "base_uri": "https://localhost:8080/",
          "height": 38
        },
        "id": "KwdpWQsyoP_d",
        "outputId": "3d58569d-dfa0-40a9-cf7f-335c449b4a2a"
      },
      "outputs": [
        {
          "output_type": "execute_result",
          "data": {
            "text/plain": [
              "'0000'"
            ],
            "application/vnd.google.colaboratory.intrinsic+json": {
              "type": "string"
            }
          },
          "metadata": {},
          "execution_count": 48
        }
      ],
      "source": [
        "f\"{label_arr[0]:04d}\""
      ]
    },
    {
      "cell_type": "code",
      "execution_count": 49,
      "metadata": {
        "colab": {
          "base_uri": "https://localhost:8080/",
          "height": 435
        },
        "id": "AXsUC6oSb5YO",
        "outputId": "82a43410-1332-4477-8822-10e5683e657c"
      },
      "outputs": [
        {
          "output_type": "display_data",
          "data": {
            "text/plain": [
              "<Figure size 640x480 with 1 Axes>"
            ],
            "image/png": "[encoded data removed]"
          },
          "metadata": {}
        }
      ],
      "source": [
        "imshow(Wx[0])"
      ]
    },
    {
      "cell_type": "code",
      "execution_count": null,
      "metadata": {
        "colab": {
          "base_uri": "https://localhost:8080/",
          "height": 1000
        },
        "id": "F8pk5NMrcSqU",
        "outputId": "c05ab52d-66f9-4853-bf27-a67b8340a56a"
      },
      "outputs": [
        {
          "output_type": "stream",
          "name": "stdout",
          "text": [
            "0\n",
            "1\n",
            "2\n",
            "3\n",
            "4\n",
            "5\n",
            "6\n",
            "7\n",
            "8\n",
            "9\n",
            "10\n",
            "11\n",
            "12\n",
            "13\n",
            "14\n",
            "15\n",
            "16\n",
            "17\n",
            "18\n",
            "19\n",
            "20\n",
            "21\n",
            "22\n",
            "23\n",
            "24\n",
            "25\n",
            "26\n",
            "27\n",
            "28\n",
            "29\n",
            "30\n",
            "31\n",
            "32\n",
            "33\n",
            "34\n",
            "35\n",
            "36\n",
            "37\n",
            "38\n",
            "39\n",
            "40\n",
            "41\n",
            "42\n",
            "43\n",
            "44\n",
            "45\n",
            "46\n",
            "47\n",
            "48\n",
            "49\n",
            "50\n",
            "51\n",
            "52\n",
            "53\n",
            "54\n",
            "55\n",
            "56\n",
            "57\n",
            "58\n",
            "59\n",
            "60\n",
            "61\n",
            "62\n",
            "63\n",
            "64\n",
            "65\n",
            "66\n",
            "67\n",
            "68\n",
            "69\n",
            "70\n",
            "71\n",
            "72\n",
            "73\n",
            "74\n",
            "75\n",
            "76\n",
            "77\n",
            "78\n",
            "79\n",
            "80\n",
            "81\n",
            "82\n",
            "83\n",
            "84\n",
            "85\n",
            "86\n",
            "87\n",
            "88\n",
            "89\n",
            "90\n",
            "91\n",
            "92\n",
            "93\n",
            "94\n",
            "95\n",
            "96\n",
            "97\n",
            "98\n",
            "99\n",
            "100\n",
            "101\n",
            "102\n",
            "103\n",
            "104\n",
            "105\n",
            "106\n",
            "107\n",
            "108\n",
            "109\n",
            "110\n",
            "111\n",
            "112\n",
            "113\n",
            "114\n",
            "115\n",
            "116\n",
            "117\n",
            "118\n",
            "119\n",
            "120\n",
            "121\n",
            "122\n",
            "123\n",
            "124\n",
            "125\n",
            "126\n",
            "127\n",
            "128\n",
            "129\n",
            "130\n",
            "131\n",
            "132\n",
            "133\n",
            "134\n",
            "135\n",
            "136\n",
            "137\n",
            "138\n",
            "139\n",
            "140\n",
            "141\n",
            "142\n",
            "143\n",
            "144\n",
            "145\n",
            "146\n",
            "147\n",
            "148\n",
            "149\n",
            "150\n",
            "151\n",
            "152\n",
            "153\n",
            "154\n",
            "155\n",
            "156\n",
            "157\n",
            "158\n",
            "159\n",
            "160\n",
            "161\n",
            "162\n",
            "163\n",
            "164\n",
            "165\n",
            "166\n",
            "167\n",
            "168\n",
            "169\n",
            "170\n",
            "171\n",
            "172\n",
            "173\n",
            "174\n",
            "175\n",
            "176\n",
            "177\n",
            "178\n",
            "179\n",
            "180\n",
            "181\n",
            "182\n",
            "183\n",
            "184\n",
            "185\n",
            "186\n",
            "187\n",
            "188\n",
            "189\n",
            "190\n",
            "191\n",
            "192\n",
            "193\n",
            "194\n",
            "195\n",
            "196\n",
            "197\n",
            "198\n",
            "199\n",
            "200\n",
            "201\n",
            "202\n",
            "203\n",
            "204\n",
            "205\n",
            "206\n",
            "207\n",
            "208\n",
            "209\n",
            "210\n",
            "211\n",
            "212\n",
            "213\n",
            "214\n",
            "215\n",
            "216\n",
            "217\n",
            "218\n",
            "219\n",
            "220\n",
            "221\n",
            "222\n",
            "223\n",
            "224\n",
            "225\n",
            "226\n",
            "227\n",
            "228\n",
            "229\n",
            "230\n",
            "231\n",
            "232\n",
            "233\n",
            "234\n",
            "235\n",
            "236\n",
            "237\n",
            "238\n",
            "239\n",
            "240\n",
            "241\n",
            "242\n",
            "243\n",
            "244\n",
            "245\n",
            "246\n",
            "247\n",
            "248\n",
            "249\n",
            "250\n",
            "251\n",
            "252\n",
            "253\n",
            "254\n",
            "255\n",
            "256\n",
            "257\n",
            "258\n",
            "259\n",
            "260\n",
            "261\n",
            "262\n",
            "263\n",
            "264\n",
            "265\n",
            "266\n",
            "267\n",
            "268\n",
            "269\n",
            "270\n",
            "271\n",
            "272\n",
            "273\n",
            "274\n",
            "275\n",
            "276\n",
            "277\n",
            "278\n",
            "279\n",
            "280\n",
            "281\n",
            "282\n",
            "283\n",
            "284\n",
            "285\n",
            "286\n",
            "287\n",
            "288\n",
            "289\n",
            "290\n",
            "291\n",
            "292\n",
            "293\n",
            "294\n",
            "295\n",
            "296\n",
            "297\n",
            "298\n",
            "299\n",
            "300\n",
            "301\n",
            "302\n",
            "303\n",
            "304\n",
            "305\n",
            "306\n",
            "307\n",
            "308\n",
            "309\n",
            "310\n",
            "311\n",
            "312\n",
            "313\n",
            "314\n",
            "315\n",
            "316\n",
            "317\n",
            "318\n",
            "319\n",
            "320\n",
            "321\n",
            "322\n",
            "323\n",
            "324\n",
            "325\n",
            "326\n",
            "327\n",
            "328\n",
            "329\n",
            "330\n",
            "331\n",
            "332\n",
            "333\n",
            "334\n",
            "335\n",
            "336\n",
            "337\n",
            "338\n",
            "339\n",
            "340\n",
            "341\n",
            "342\n",
            "343\n",
            "344\n",
            "345\n",
            "346\n",
            "347\n",
            "348\n",
            "349\n",
            "350\n",
            "351\n",
            "352\n",
            "353\n",
            "354\n",
            "355\n",
            "356\n",
            "357\n",
            "358\n",
            "359\n",
            "360\n",
            "361\n",
            "362\n",
            "363\n",
            "364\n",
            "365\n",
            "366\n",
            "367\n",
            "368\n",
            "369\n",
            "370\n",
            "371\n",
            "372\n",
            "373\n",
            "374\n",
            "375\n",
            "376\n",
            "377\n",
            "378\n",
            "379\n",
            "380\n",
            "381\n",
            "382\n",
            "383\n",
            "384\n",
            "385\n",
            "386\n",
            "387\n",
            "388\n",
            "389\n",
            "390\n",
            "391\n",
            "392\n",
            "393\n",
            "394\n",
            "395\n",
            "396\n",
            "397\n",
            "398\n",
            "399\n",
            "400\n",
            "401\n",
            "402\n",
            "403\n",
            "404\n",
            "405\n",
            "406\n",
            "407\n",
            "408\n",
            "409\n",
            "410\n",
            "411\n",
            "412\n",
            "413\n",
            "414\n",
            "415\n",
            "416\n",
            "417\n",
            "418\n",
            "419\n",
            "420\n",
            "421\n",
            "422\n",
            "423\n",
            "424\n",
            "425\n",
            "426\n",
            "427\n",
            "428\n",
            "429\n",
            "430\n",
            "431\n",
            "432\n",
            "433\n",
            "434\n",
            "435\n",
            "436\n",
            "437\n",
            "438\n",
            "439\n",
            "440\n",
            "441\n",
            "442\n",
            "443\n",
            "444\n",
            "445\n",
            "446\n",
            "447\n",
            "448\n",
            "449\n",
            "450\n",
            "451\n",
            "452\n",
            "453\n",
            "454\n",
            "455\n",
            "456\n",
            "457\n",
            "458\n",
            "459\n",
            "460\n",
            "461\n",
            "462\n",
            "463\n",
            "464\n",
            "465\n",
            "466\n",
            "467\n",
            "468\n",
            "469\n",
            "470\n",
            "471\n",
            "472\n",
            "473\n",
            "474\n",
            "475\n",
            "476\n",
            "477\n",
            "478\n",
            "479\n",
            "480\n",
            "481\n",
            "482\n",
            "483\n",
            "484\n",
            "485\n",
            "486\n",
            "487\n",
            "488\n",
            "489\n",
            "490\n",
            "491\n",
            "492\n",
            "493\n",
            "494\n",
            "495\n",
            "496\n",
            "497\n",
            "498\n",
            "499\n",
            "500\n",
            "501\n",
            "502\n",
            "503\n",
            "504\n",
            "505\n",
            "506\n",
            "507\n",
            "508\n",
            "509\n",
            "510\n",
            "511\n",
            "512\n",
            "513\n",
            "514\n",
            "515\n",
            "516\n",
            "517\n",
            "518\n",
            "519\n",
            "520\n",
            "521\n",
            "522\n",
            "523\n",
            "524\n",
            "525\n",
            "526\n",
            "527\n",
            "528\n",
            "529\n",
            "530\n",
            "531\n",
            "532\n",
            "533\n",
            "534\n",
            "535\n",
            "536\n",
            "537\n",
            "538\n",
            "539\n",
            "540\n",
            "541\n",
            "542\n",
            "543\n",
            "544\n",
            "545\n",
            "546\n",
            "547\n",
            "548\n",
            "549\n",
            "550\n",
            "551\n",
            "552\n",
            "553\n",
            "554\n",
            "555\n",
            "556\n",
            "557\n",
            "558\n",
            "559\n",
            "560\n",
            "561\n",
            "562\n",
            "563\n",
            "564\n",
            "565\n",
            "566\n",
            "567\n",
            "568\n",
            "569\n",
            "570\n",
            "571\n",
            "572\n",
            "573\n",
            "574\n",
            "575\n",
            "576\n",
            "577\n",
            "578\n",
            "579\n",
            "580\n",
            "581\n",
            "582\n",
            "583\n",
            "584\n",
            "585\n",
            "586\n",
            "587\n",
            "588\n",
            "589\n",
            "590\n",
            "591\n",
            "592\n",
            "593\n",
            "594\n",
            "595\n",
            "596\n",
            "597\n",
            "598\n",
            "599\n",
            "600\n",
            "601\n",
            "602\n",
            "603\n",
            "604\n",
            "605\n",
            "606\n",
            "607\n",
            "608\n",
            "609\n",
            "610\n",
            "611\n",
            "612\n",
            "613\n",
            "614\n",
            "615\n",
            "616\n",
            "617\n",
            "618\n",
            "619\n",
            "620\n",
            "621\n",
            "622\n",
            "623\n",
            "624\n",
            "625\n",
            "626\n",
            "627\n",
            "628\n",
            "629\n",
            "630\n",
            "631\n",
            "632\n",
            "633\n",
            "634\n",
            "635\n",
            "636\n",
            "637\n",
            "638\n",
            "639\n",
            "640\n",
            "641\n",
            "642\n",
            "643\n",
            "644\n",
            "645\n",
            "646\n",
            "647\n",
            "648\n",
            "649\n",
            "650\n",
            "651\n",
            "652\n",
            "653\n",
            "654\n",
            "655\n",
            "656\n",
            "657\n",
            "658\n",
            "659\n",
            "660\n",
            "661\n",
            "662\n",
            "663\n",
            "664\n",
            "665\n",
            "666\n",
            "667\n",
            "668\n",
            "669\n",
            "670\n",
            "671\n",
            "672\n",
            "673\n",
            "674\n",
            "675\n",
            "676\n",
            "677\n",
            "678\n",
            "679\n",
            "680\n",
            "681\n",
            "682\n",
            "683\n",
            "684\n",
            "685\n",
            "686\n",
            "687\n",
            "688\n",
            "689\n",
            "690\n",
            "691\n",
            "692\n",
            "693\n",
            "694\n",
            "695\n",
            "696\n",
            "697\n",
            "698\n",
            "699\n",
            "700\n",
            "701\n",
            "702\n",
            "703\n",
            "704\n",
            "705\n"
          ]
        },
        {
          "output_type": "error",
          "ename": "KeyboardInterrupt",
          "evalue": "ignored",
          "traceback": [
            "\u001b[0;31m---------------------------------------------------------------------------\u001b[0m",
            "\u001b[0;31mKeyboardInterrupt\u001b[0m                         Traceback (most recent call last)",
            "\u001b[0;32m<ipython-input-86-a8ed9220f940>\u001b[0m in \u001b[0;36m<cell line: 1>\u001b[0;34m()\u001b[0m\n\u001b[1;32m      1\u001b[0m \u001b[0;32mfor\u001b[0m \u001b[0mi\u001b[0m\u001b[0;34m,\u001b[0m\u001b[0mdata\u001b[0m \u001b[0;32min\u001b[0m \u001b[0menumerate\u001b[0m\u001b[0;34m(\u001b[0m\u001b[0mdata_arr\u001b[0m\u001b[0;34m)\u001b[0m\u001b[0;34m:\u001b[0m\u001b[0;34m\u001b[0m\u001b[0;34m\u001b[0m\u001b[0m\n\u001b[0;32m----> 2\u001b[0;31m   \u001b[0mWx\u001b[0m\u001b[0;34m,\u001b[0m \u001b[0mscales\u001b[0m \u001b[0;34m=\u001b[0m \u001b[0mcwt\u001b[0m\u001b[0;34m(\u001b[0m\u001b[0mdata\u001b[0m\u001b[0;34m,\u001b[0m \u001b[0;34m'morlet'\u001b[0m\u001b[0;34m)\u001b[0m\u001b[0;34m\u001b[0m\u001b[0;34m\u001b[0m\u001b[0m\n\u001b[0m\u001b[1;32m      3\u001b[0m   \u001b[0mWx\u001b[0m \u001b[0;34m=\u001b[0m \u001b[0mnp\u001b[0m\u001b[0;34m.\u001b[0m\u001b[0mabs\u001b[0m\u001b[0;34m(\u001b[0m\u001b[0mWx\u001b[0m\u001b[0;34m)\u001b[0m\u001b[0;34m\u001b[0m\u001b[0;34m\u001b[0m\u001b[0m\n\u001b[1;32m      4\u001b[0m   \u001b[0mpath\u001b[0m \u001b[0;34m=\u001b[0m \u001b[0mos\u001b[0m\u001b[0;34m.\u001b[0m\u001b[0mpath\u001b[0m\u001b[0;34m.\u001b[0m\u001b[0mjoin\u001b[0m\u001b[0;34m(\u001b[0m\u001b[0;34m'/content/scaleogram'\u001b[0m\u001b[0;34m,\u001b[0m\u001b[0;34mf'data_{i:04d}_{label_arr[i]}'\u001b[0m\u001b[0;34m)\u001b[0m\u001b[0;34m\u001b[0m\u001b[0;34m\u001b[0m\u001b[0m\n\u001b[1;32m      5\u001b[0m   \u001b[0;31m#os.makedirs(path,exist_ok=True)\u001b[0m\u001b[0;34m\u001b[0m\u001b[0;34m\u001b[0m\u001b[0m\n",
            "\u001b[0;32m/usr/local/lib/python3.9/dist-packages/ssqueezepy/_cwt.py\u001b[0m in \u001b[0;36mcwt\u001b[0;34m(x, wavelet, scales, fs, t, nv, l1_norm, derivative, padtype, rpadded, vectorized, astensor, cache_wavelet, order, average, nan_checks, patience)\u001b[0m\n\u001b[1;32m    257\u001b[0m     \u001b[0;31m# take CWT\u001b[0m\u001b[0;34m\u001b[0m\u001b[0;34m\u001b[0m\u001b[0m\n\u001b[1;32m    258\u001b[0m     \u001b[0;32mif\u001b[0m \u001b[0mvectorized\u001b[0m\u001b[0;34m:\u001b[0m\u001b[0;34m\u001b[0m\u001b[0;34m\u001b[0m\u001b[0m\n\u001b[0;32m--> 259\u001b[0;31m         \u001b[0mWx\u001b[0m\u001b[0;34m,\u001b[0m \u001b[0mdWx\u001b[0m \u001b[0;34m=\u001b[0m \u001b[0m_vectorized\u001b[0m\u001b[0;34m(\u001b[0m\u001b[0mxh\u001b[0m\u001b[0;34m,\u001b[0m \u001b[0mscales\u001b[0m\u001b[0;34m,\u001b[0m \u001b[0mwavelet\u001b[0m\u001b[0;34m,\u001b[0m \u001b[0mderivative\u001b[0m\u001b[0;34m,\u001b[0m \u001b[0mcache_wavelet\u001b[0m\u001b[0;34m)\u001b[0m\u001b[0;34m\u001b[0m\u001b[0;34m\u001b[0m\u001b[0m\n\u001b[0m\u001b[1;32m    260\u001b[0m     \u001b[0;32melse\u001b[0m\u001b[0;34m:\u001b[0m\u001b[0;34m\u001b[0m\u001b[0;34m\u001b[0m\u001b[0m\n\u001b[1;32m    261\u001b[0m         \u001b[0mWx\u001b[0m\u001b[0;34m,\u001b[0m \u001b[0mdWx\u001b[0m \u001b[0;34m=\u001b[0m \u001b[0m_for_loop\u001b[0m\u001b[0;34m(\u001b[0m\u001b[0mxh\u001b[0m\u001b[0;34m,\u001b[0m \u001b[0mscales\u001b[0m\u001b[0;34m,\u001b[0m \u001b[0mwavelet\u001b[0m\u001b[0;34m,\u001b[0m \u001b[0mderivative\u001b[0m\u001b[0;34m,\u001b[0m \u001b[0mis_2D\u001b[0m\u001b[0;34m)\u001b[0m\u001b[0;34m\u001b[0m\u001b[0;34m\u001b[0m\u001b[0m\n",
            "\u001b[0;32m/usr/local/lib/python3.9/dist-packages/ssqueezepy/_cwt.py\u001b[0m in \u001b[0;36m_vectorized\u001b[0;34m(xh, scales, wavelet, derivative, cache_wavelet)\u001b[0m\n\u001b[1;32m    153\u001b[0m             \u001b[0mPsih_xh\u001b[0m \u001b[0;34m=\u001b[0m \u001b[0mwavelet\u001b[0m\u001b[0;34m.\u001b[0m\u001b[0mPsih\u001b[0m\u001b[0;34m(\u001b[0m\u001b[0mscale\u001b[0m\u001b[0;34m=\u001b[0m\u001b[0mscales\u001b[0m\u001b[0;34m,\u001b[0m \u001b[0mnohalf\u001b[0m\u001b[0;34m=\u001b[0m\u001b[0;32mFalse\u001b[0m\u001b[0;34m)\u001b[0m \u001b[0;34m*\u001b[0m \u001b[0mxh\u001b[0m\u001b[0;34m\u001b[0m\u001b[0;34m\u001b[0m\u001b[0m\n\u001b[1;32m    154\u001b[0m         \u001b[0;32melse\u001b[0m\u001b[0;34m:\u001b[0m\u001b[0;34m\u001b[0m\u001b[0;34m\u001b[0m\u001b[0m\n\u001b[0;32m--> 155\u001b[0;31m             \u001b[0mPsih_xh\u001b[0m \u001b[0;34m=\u001b[0m \u001b[0mwavelet\u001b[0m\u001b[0;34m(\u001b[0m\u001b[0mscale\u001b[0m\u001b[0;34m=\u001b[0m\u001b[0mscales\u001b[0m\u001b[0;34m,\u001b[0m \u001b[0mnohalf\u001b[0m\u001b[0;34m=\u001b[0m\u001b[0;32mFalse\u001b[0m\u001b[0;34m)\u001b[0m \u001b[0;34m*\u001b[0m \u001b[0mxh\u001b[0m\u001b[0;34m\u001b[0m\u001b[0;34m\u001b[0m\u001b[0m\n\u001b[0m\u001b[1;32m    156\u001b[0m \u001b[0;34m\u001b[0m\u001b[0m\n\u001b[1;32m    157\u001b[0m         \u001b[0mWx\u001b[0m \u001b[0;34m=\u001b[0m \u001b[0mifft\u001b[0m\u001b[0;34m(\u001b[0m\u001b[0mPsih_xh\u001b[0m\u001b[0;34m,\u001b[0m \u001b[0maxis\u001b[0m\u001b[0;34m=\u001b[0m\u001b[0;34m-\u001b[0m\u001b[0;36m1\u001b[0m\u001b[0;34m,\u001b[0m \u001b[0mastensor\u001b[0m\u001b[0;34m=\u001b[0m\u001b[0;32mTrue\u001b[0m\u001b[0;34m)\u001b[0m\u001b[0;34m\u001b[0m\u001b[0;34m\u001b[0m\u001b[0m\n",
            "\u001b[0;31mKeyboardInterrupt\u001b[0m: "
          ]
        }
      ],
      "source": [
        "for i,data in enumerate(data_arr):\n",
        "  Wx, scales = cwt(data, 'morlet')\n",
        "  Wx = np.abs(Wx)\n",
        "  path = os.path.join('/content/scaleogram',f'data_{i:04d}_{label_arr[i]}')\n",
        "  #os.makedirs(path,exist_ok=True)\n",
        "  np.save(path,Wx)\n",
        "  print(i)\n",
        "\n"
      ]
    },
    {
      "cell_type": "code",
      "execution_count": null,
      "metadata": {
        "id": "OurjGUggutJb",
        "colab": {
          "base_uri": "https://localhost:8080/"
        },
        "outputId": "50a23848-90ab-4c36-eee3-bf7f6cdf109d"
      },
      "outputs": [
        {
          "output_type": "execute_result",
          "data": {
            "text/plain": [
              "['/content/gdrive', '/content/sample_data']"
            ]
          },
          "metadata": {},
          "execution_count": 61
        }
      ],
      "source": [
        "glob('/content/*')"
      ]
    },
    {
      "cell_type": "code",
      "source": [
        "!rm -r '/content/scaleogram'"
      ],
      "metadata": {
        "id": "8Bi-koHjxv3U"
      },
      "execution_count": null,
      "outputs": []
    },
    {
      "cell_type": "code",
      "source": [],
      "metadata": {
        "id": "k_7G60_v1iZ4"
      },
      "execution_count": null,
      "outputs": []
    }
  ],
  "metadata": {
    "accelerator": "GPU",
    "colab": {
      "provenance": [],
      "collapsed_sections": [
        "K7fZcEC1Bk7b"
      ]
    },
    "gpuClass": "standard",
    "kernelspec": {
      "display_name": "Python 3",
      "name": "python3"
    },
    "language_info": {
      "name": "python"
    }
  },
  "nbformat": 4,
  "nbformat_minor": 0
}